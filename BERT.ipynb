{
  "nbformat": 4,
  "nbformat_minor": 0,
  "metadata": {
    "colab": {
      "name": "Untitled22.ipynb",
      "provenance": []
    },
    "kernelspec": {
      "name": "python3",
      "display_name": "Python 3"
    },
    "accelerator": "GPU",
    "widgets": {
      "application/vnd.jupyter.widget-state+json": {
        "c000d2391ed04bdcbc7a6fb59c5c3193": {
          "model_module": "@jupyter-widgets/controls",
          "model_name": "HBoxModel",
          "state": {
            "_view_name": "HBoxView",
            "_dom_classes": [],
            "_model_name": "HBoxModel",
            "_view_module": "@jupyter-widgets/controls",
            "_model_module_version": "1.5.0",
            "_view_count": null,
            "_view_module_version": "1.5.0",
            "box_style": "",
            "layout": "IPY_MODEL_23678bec133744549ebdecfc49cd8f9d",
            "_model_module": "@jupyter-widgets/controls",
            "children": [
              "IPY_MODEL_e02a1e2c273b4e84b135a2d8f34f40bb",
              "IPY_MODEL_35d29720e80b470f83ba20fa5a5e3a72"
            ]
          }
        },
        "23678bec133744549ebdecfc49cd8f9d": {
          "model_module": "@jupyter-widgets/base",
          "model_name": "LayoutModel",
          "state": {
            "_view_name": "LayoutView",
            "grid_template_rows": null,
            "right": null,
            "justify_content": null,
            "_view_module": "@jupyter-widgets/base",
            "overflow": null,
            "_model_module_version": "1.2.0",
            "_view_count": null,
            "flex_flow": null,
            "width": null,
            "min_width": null,
            "border": null,
            "align_items": null,
            "bottom": null,
            "_model_module": "@jupyter-widgets/base",
            "top": null,
            "grid_column": null,
            "overflow_y": null,
            "overflow_x": null,
            "grid_auto_flow": null,
            "grid_area": null,
            "grid_template_columns": null,
            "flex": null,
            "_model_name": "LayoutModel",
            "justify_items": null,
            "grid_row": null,
            "max_height": null,
            "align_content": null,
            "visibility": null,
            "align_self": null,
            "height": null,
            "min_height": null,
            "padding": null,
            "grid_auto_rows": null,
            "grid_gap": null,
            "max_width": null,
            "order": null,
            "_view_module_version": "1.2.0",
            "grid_template_areas": null,
            "object_position": null,
            "object_fit": null,
            "grid_auto_columns": null,
            "margin": null,
            "display": null,
            "left": null
          }
        },
        "e02a1e2c273b4e84b135a2d8f34f40bb": {
          "model_module": "@jupyter-widgets/controls",
          "model_name": "FloatProgressModel",
          "state": {
            "_view_name": "ProgressView",
            "style": "IPY_MODEL_578ba8a4c263461b9c730785f725f71b",
            "_dom_classes": [],
            "description": "Downloading: 100%",
            "_model_name": "FloatProgressModel",
            "bar_style": "success",
            "max": 231508,
            "_view_module": "@jupyter-widgets/controls",
            "_model_module_version": "1.5.0",
            "value": 231508,
            "_view_count": null,
            "_view_module_version": "1.5.0",
            "orientation": "horizontal",
            "min": 0,
            "description_tooltip": null,
            "_model_module": "@jupyter-widgets/controls",
            "layout": "IPY_MODEL_e4a6731c4eac4f95815a594ea2095f68"
          }
        },
        "35d29720e80b470f83ba20fa5a5e3a72": {
          "model_module": "@jupyter-widgets/controls",
          "model_name": "HTMLModel",
          "state": {
            "_view_name": "HTMLView",
            "style": "IPY_MODEL_c7a90da63bcb48f4963b3772754c093b",
            "_dom_classes": [],
            "description": "",
            "_model_name": "HTMLModel",
            "placeholder": "​",
            "_view_module": "@jupyter-widgets/controls",
            "_model_module_version": "1.5.0",
            "value": " 232k/232k [00:00&lt;00:00, 613kB/s]",
            "_view_count": null,
            "_view_module_version": "1.5.0",
            "description_tooltip": null,
            "_model_module": "@jupyter-widgets/controls",
            "layout": "IPY_MODEL_91108ea05b784504a17c0160c31bccee"
          }
        },
        "578ba8a4c263461b9c730785f725f71b": {
          "model_module": "@jupyter-widgets/controls",
          "model_name": "ProgressStyleModel",
          "state": {
            "_view_name": "StyleView",
            "_model_name": "ProgressStyleModel",
            "description_width": "initial",
            "_view_module": "@jupyter-widgets/base",
            "_model_module_version": "1.5.0",
            "_view_count": null,
            "_view_module_version": "1.2.0",
            "bar_color": null,
            "_model_module": "@jupyter-widgets/controls"
          }
        },
        "e4a6731c4eac4f95815a594ea2095f68": {
          "model_module": "@jupyter-widgets/base",
          "model_name": "LayoutModel",
          "state": {
            "_view_name": "LayoutView",
            "grid_template_rows": null,
            "right": null,
            "justify_content": null,
            "_view_module": "@jupyter-widgets/base",
            "overflow": null,
            "_model_module_version": "1.2.0",
            "_view_count": null,
            "flex_flow": null,
            "width": null,
            "min_width": null,
            "border": null,
            "align_items": null,
            "bottom": null,
            "_model_module": "@jupyter-widgets/base",
            "top": null,
            "grid_column": null,
            "overflow_y": null,
            "overflow_x": null,
            "grid_auto_flow": null,
            "grid_area": null,
            "grid_template_columns": null,
            "flex": null,
            "_model_name": "LayoutModel",
            "justify_items": null,
            "grid_row": null,
            "max_height": null,
            "align_content": null,
            "visibility": null,
            "align_self": null,
            "height": null,
            "min_height": null,
            "padding": null,
            "grid_auto_rows": null,
            "grid_gap": null,
            "max_width": null,
            "order": null,
            "_view_module_version": "1.2.0",
            "grid_template_areas": null,
            "object_position": null,
            "object_fit": null,
            "grid_auto_columns": null,
            "margin": null,
            "display": null,
            "left": null
          }
        },
        "c7a90da63bcb48f4963b3772754c093b": {
          "model_module": "@jupyter-widgets/controls",
          "model_name": "DescriptionStyleModel",
          "state": {
            "_view_name": "StyleView",
            "_model_name": "DescriptionStyleModel",
            "description_width": "",
            "_view_module": "@jupyter-widgets/base",
            "_model_module_version": "1.5.0",
            "_view_count": null,
            "_view_module_version": "1.2.0",
            "_model_module": "@jupyter-widgets/controls"
          }
        },
        "91108ea05b784504a17c0160c31bccee": {
          "model_module": "@jupyter-widgets/base",
          "model_name": "LayoutModel",
          "state": {
            "_view_name": "LayoutView",
            "grid_template_rows": null,
            "right": null,
            "justify_content": null,
            "_view_module": "@jupyter-widgets/base",
            "overflow": null,
            "_model_module_version": "1.2.0",
            "_view_count": null,
            "flex_flow": null,
            "width": null,
            "min_width": null,
            "border": null,
            "align_items": null,
            "bottom": null,
            "_model_module": "@jupyter-widgets/base",
            "top": null,
            "grid_column": null,
            "overflow_y": null,
            "overflow_x": null,
            "grid_auto_flow": null,
            "grid_area": null,
            "grid_template_columns": null,
            "flex": null,
            "_model_name": "LayoutModel",
            "justify_items": null,
            "grid_row": null,
            "max_height": null,
            "align_content": null,
            "visibility": null,
            "align_self": null,
            "height": null,
            "min_height": null,
            "padding": null,
            "grid_auto_rows": null,
            "grid_gap": null,
            "max_width": null,
            "order": null,
            "_view_module_version": "1.2.0",
            "grid_template_areas": null,
            "object_position": null,
            "object_fit": null,
            "grid_auto_columns": null,
            "margin": null,
            "display": null,
            "left": null
          }
        },
        "ef3030bd780f48c0be48b290615345e4": {
          "model_module": "@jupyter-widgets/controls",
          "model_name": "HBoxModel",
          "state": {
            "_view_name": "HBoxView",
            "_dom_classes": [],
            "_model_name": "HBoxModel",
            "_view_module": "@jupyter-widgets/controls",
            "_model_module_version": "1.5.0",
            "_view_count": null,
            "_view_module_version": "1.5.0",
            "box_style": "",
            "layout": "IPY_MODEL_3907fbb291c44f48866060cf0b2eb2f6",
            "_model_module": "@jupyter-widgets/controls",
            "children": [
              "IPY_MODEL_50ba9dbb9b344077a50fff475f79a8f7",
              "IPY_MODEL_66966685054e457e8e114e01720df9a2"
            ]
          }
        },
        "3907fbb291c44f48866060cf0b2eb2f6": {
          "model_module": "@jupyter-widgets/base",
          "model_name": "LayoutModel",
          "state": {
            "_view_name": "LayoutView",
            "grid_template_rows": null,
            "right": null,
            "justify_content": null,
            "_view_module": "@jupyter-widgets/base",
            "overflow": null,
            "_model_module_version": "1.2.0",
            "_view_count": null,
            "flex_flow": null,
            "width": null,
            "min_width": null,
            "border": null,
            "align_items": null,
            "bottom": null,
            "_model_module": "@jupyter-widgets/base",
            "top": null,
            "grid_column": null,
            "overflow_y": null,
            "overflow_x": null,
            "grid_auto_flow": null,
            "grid_area": null,
            "grid_template_columns": null,
            "flex": null,
            "_model_name": "LayoutModel",
            "justify_items": null,
            "grid_row": null,
            "max_height": null,
            "align_content": null,
            "visibility": null,
            "align_self": null,
            "height": null,
            "min_height": null,
            "padding": null,
            "grid_auto_rows": null,
            "grid_gap": null,
            "max_width": null,
            "order": null,
            "_view_module_version": "1.2.0",
            "grid_template_areas": null,
            "object_position": null,
            "object_fit": null,
            "grid_auto_columns": null,
            "margin": null,
            "display": null,
            "left": null
          }
        },
        "50ba9dbb9b344077a50fff475f79a8f7": {
          "model_module": "@jupyter-widgets/controls",
          "model_name": "FloatProgressModel",
          "state": {
            "_view_name": "ProgressView",
            "style": "IPY_MODEL_e9afd61ae2ab40adb58fab8f19491edf",
            "_dom_classes": [],
            "description": "Downloading: 100%",
            "_model_name": "FloatProgressModel",
            "bar_style": "success",
            "max": 433,
            "_view_module": "@jupyter-widgets/controls",
            "_model_module_version": "1.5.0",
            "value": 433,
            "_view_count": null,
            "_view_module_version": "1.5.0",
            "orientation": "horizontal",
            "min": 0,
            "description_tooltip": null,
            "_model_module": "@jupyter-widgets/controls",
            "layout": "IPY_MODEL_7733e21328764896b0da4f2984708746"
          }
        },
        "66966685054e457e8e114e01720df9a2": {
          "model_module": "@jupyter-widgets/controls",
          "model_name": "HTMLModel",
          "state": {
            "_view_name": "HTMLView",
            "style": "IPY_MODEL_db4c7252210a47c4a8c7beb5a0ec0b73",
            "_dom_classes": [],
            "description": "",
            "_model_name": "HTMLModel",
            "placeholder": "​",
            "_view_module": "@jupyter-widgets/controls",
            "_model_module_version": "1.5.0",
            "value": " 433/433 [00:00&lt;00:00, 1.10kB/s]",
            "_view_count": null,
            "_view_module_version": "1.5.0",
            "description_tooltip": null,
            "_model_module": "@jupyter-widgets/controls",
            "layout": "IPY_MODEL_024e92a55e62414d821973d177aae59f"
          }
        },
        "e9afd61ae2ab40adb58fab8f19491edf": {
          "model_module": "@jupyter-widgets/controls",
          "model_name": "ProgressStyleModel",
          "state": {
            "_view_name": "StyleView",
            "_model_name": "ProgressStyleModel",
            "description_width": "initial",
            "_view_module": "@jupyter-widgets/base",
            "_model_module_version": "1.5.0",
            "_view_count": null,
            "_view_module_version": "1.2.0",
            "bar_color": null,
            "_model_module": "@jupyter-widgets/controls"
          }
        },
        "7733e21328764896b0da4f2984708746": {
          "model_module": "@jupyter-widgets/base",
          "model_name": "LayoutModel",
          "state": {
            "_view_name": "LayoutView",
            "grid_template_rows": null,
            "right": null,
            "justify_content": null,
            "_view_module": "@jupyter-widgets/base",
            "overflow": null,
            "_model_module_version": "1.2.0",
            "_view_count": null,
            "flex_flow": null,
            "width": null,
            "min_width": null,
            "border": null,
            "align_items": null,
            "bottom": null,
            "_model_module": "@jupyter-widgets/base",
            "top": null,
            "grid_column": null,
            "overflow_y": null,
            "overflow_x": null,
            "grid_auto_flow": null,
            "grid_area": null,
            "grid_template_columns": null,
            "flex": null,
            "_model_name": "LayoutModel",
            "justify_items": null,
            "grid_row": null,
            "max_height": null,
            "align_content": null,
            "visibility": null,
            "align_self": null,
            "height": null,
            "min_height": null,
            "padding": null,
            "grid_auto_rows": null,
            "grid_gap": null,
            "max_width": null,
            "order": null,
            "_view_module_version": "1.2.0",
            "grid_template_areas": null,
            "object_position": null,
            "object_fit": null,
            "grid_auto_columns": null,
            "margin": null,
            "display": null,
            "left": null
          }
        },
        "db4c7252210a47c4a8c7beb5a0ec0b73": {
          "model_module": "@jupyter-widgets/controls",
          "model_name": "DescriptionStyleModel",
          "state": {
            "_view_name": "StyleView",
            "_model_name": "DescriptionStyleModel",
            "description_width": "",
            "_view_module": "@jupyter-widgets/base",
            "_model_module_version": "1.5.0",
            "_view_count": null,
            "_view_module_version": "1.2.0",
            "_model_module": "@jupyter-widgets/controls"
          }
        },
        "024e92a55e62414d821973d177aae59f": {
          "model_module": "@jupyter-widgets/base",
          "model_name": "LayoutModel",
          "state": {
            "_view_name": "LayoutView",
            "grid_template_rows": null,
            "right": null,
            "justify_content": null,
            "_view_module": "@jupyter-widgets/base",
            "overflow": null,
            "_model_module_version": "1.2.0",
            "_view_count": null,
            "flex_flow": null,
            "width": null,
            "min_width": null,
            "border": null,
            "align_items": null,
            "bottom": null,
            "_model_module": "@jupyter-widgets/base",
            "top": null,
            "grid_column": null,
            "overflow_y": null,
            "overflow_x": null,
            "grid_auto_flow": null,
            "grid_area": null,
            "grid_template_columns": null,
            "flex": null,
            "_model_name": "LayoutModel",
            "justify_items": null,
            "grid_row": null,
            "max_height": null,
            "align_content": null,
            "visibility": null,
            "align_self": null,
            "height": null,
            "min_height": null,
            "padding": null,
            "grid_auto_rows": null,
            "grid_gap": null,
            "max_width": null,
            "order": null,
            "_view_module_version": "1.2.0",
            "grid_template_areas": null,
            "object_position": null,
            "object_fit": null,
            "grid_auto_columns": null,
            "margin": null,
            "display": null,
            "left": null
          }
        },
        "cce069cafbfe4342a0d4b2c6f44c73af": {
          "model_module": "@jupyter-widgets/controls",
          "model_name": "HBoxModel",
          "state": {
            "_view_name": "HBoxView",
            "_dom_classes": [],
            "_model_name": "HBoxModel",
            "_view_module": "@jupyter-widgets/controls",
            "_model_module_version": "1.5.0",
            "_view_count": null,
            "_view_module_version": "1.5.0",
            "box_style": "",
            "layout": "IPY_MODEL_b6224617c6c44d2595979dd7dd714a16",
            "_model_module": "@jupyter-widgets/controls",
            "children": [
              "IPY_MODEL_5ef32dc1f70047d2bbd293e553d6aaac",
              "IPY_MODEL_32f10ad86f1c4d6d866538c7f278cf08"
            ]
          }
        },
        "b6224617c6c44d2595979dd7dd714a16": {
          "model_module": "@jupyter-widgets/base",
          "model_name": "LayoutModel",
          "state": {
            "_view_name": "LayoutView",
            "grid_template_rows": null,
            "right": null,
            "justify_content": null,
            "_view_module": "@jupyter-widgets/base",
            "overflow": null,
            "_model_module_version": "1.2.0",
            "_view_count": null,
            "flex_flow": null,
            "width": null,
            "min_width": null,
            "border": null,
            "align_items": null,
            "bottom": null,
            "_model_module": "@jupyter-widgets/base",
            "top": null,
            "grid_column": null,
            "overflow_y": null,
            "overflow_x": null,
            "grid_auto_flow": null,
            "grid_area": null,
            "grid_template_columns": null,
            "flex": null,
            "_model_name": "LayoutModel",
            "justify_items": null,
            "grid_row": null,
            "max_height": null,
            "align_content": null,
            "visibility": null,
            "align_self": null,
            "height": null,
            "min_height": null,
            "padding": null,
            "grid_auto_rows": null,
            "grid_gap": null,
            "max_width": null,
            "order": null,
            "_view_module_version": "1.2.0",
            "grid_template_areas": null,
            "object_position": null,
            "object_fit": null,
            "grid_auto_columns": null,
            "margin": null,
            "display": null,
            "left": null
          }
        },
        "5ef32dc1f70047d2bbd293e553d6aaac": {
          "model_module": "@jupyter-widgets/controls",
          "model_name": "FloatProgressModel",
          "state": {
            "_view_name": "ProgressView",
            "style": "IPY_MODEL_179050862edc46db83ee4b9a937bf179",
            "_dom_classes": [],
            "description": "Downloading: 100%",
            "_model_name": "FloatProgressModel",
            "bar_style": "success",
            "max": 440473133,
            "_view_module": "@jupyter-widgets/controls",
            "_model_module_version": "1.5.0",
            "value": 440473133,
            "_view_count": null,
            "_view_module_version": "1.5.0",
            "orientation": "horizontal",
            "min": 0,
            "description_tooltip": null,
            "_model_module": "@jupyter-widgets/controls",
            "layout": "IPY_MODEL_2146861b20244574943514b3306f0148"
          }
        },
        "32f10ad86f1c4d6d866538c7f278cf08": {
          "model_module": "@jupyter-widgets/controls",
          "model_name": "HTMLModel",
          "state": {
            "_view_name": "HTMLView",
            "style": "IPY_MODEL_3591e996fc024cba8309eea9b9b07651",
            "_dom_classes": [],
            "description": "",
            "_model_name": "HTMLModel",
            "placeholder": "​",
            "_view_module": "@jupyter-widgets/controls",
            "_model_module_version": "1.5.0",
            "value": " 440M/440M [00:09&lt;00:00, 48.7MB/s]",
            "_view_count": null,
            "_view_module_version": "1.5.0",
            "description_tooltip": null,
            "_model_module": "@jupyter-widgets/controls",
            "layout": "IPY_MODEL_783f3afde4c04bb0831e9b106820ae7c"
          }
        },
        "179050862edc46db83ee4b9a937bf179": {
          "model_module": "@jupyter-widgets/controls",
          "model_name": "ProgressStyleModel",
          "state": {
            "_view_name": "StyleView",
            "_model_name": "ProgressStyleModel",
            "description_width": "initial",
            "_view_module": "@jupyter-widgets/base",
            "_model_module_version": "1.5.0",
            "_view_count": null,
            "_view_module_version": "1.2.0",
            "bar_color": null,
            "_model_module": "@jupyter-widgets/controls"
          }
        },
        "2146861b20244574943514b3306f0148": {
          "model_module": "@jupyter-widgets/base",
          "model_name": "LayoutModel",
          "state": {
            "_view_name": "LayoutView",
            "grid_template_rows": null,
            "right": null,
            "justify_content": null,
            "_view_module": "@jupyter-widgets/base",
            "overflow": null,
            "_model_module_version": "1.2.0",
            "_view_count": null,
            "flex_flow": null,
            "width": null,
            "min_width": null,
            "border": null,
            "align_items": null,
            "bottom": null,
            "_model_module": "@jupyter-widgets/base",
            "top": null,
            "grid_column": null,
            "overflow_y": null,
            "overflow_x": null,
            "grid_auto_flow": null,
            "grid_area": null,
            "grid_template_columns": null,
            "flex": null,
            "_model_name": "LayoutModel",
            "justify_items": null,
            "grid_row": null,
            "max_height": null,
            "align_content": null,
            "visibility": null,
            "align_self": null,
            "height": null,
            "min_height": null,
            "padding": null,
            "grid_auto_rows": null,
            "grid_gap": null,
            "max_width": null,
            "order": null,
            "_view_module_version": "1.2.0",
            "grid_template_areas": null,
            "object_position": null,
            "object_fit": null,
            "grid_auto_columns": null,
            "margin": null,
            "display": null,
            "left": null
          }
        },
        "3591e996fc024cba8309eea9b9b07651": {
          "model_module": "@jupyter-widgets/controls",
          "model_name": "DescriptionStyleModel",
          "state": {
            "_view_name": "StyleView",
            "_model_name": "DescriptionStyleModel",
            "description_width": "",
            "_view_module": "@jupyter-widgets/base",
            "_model_module_version": "1.5.0",
            "_view_count": null,
            "_view_module_version": "1.2.0",
            "_model_module": "@jupyter-widgets/controls"
          }
        },
        "783f3afde4c04bb0831e9b106820ae7c": {
          "model_module": "@jupyter-widgets/base",
          "model_name": "LayoutModel",
          "state": {
            "_view_name": "LayoutView",
            "grid_template_rows": null,
            "right": null,
            "justify_content": null,
            "_view_module": "@jupyter-widgets/base",
            "overflow": null,
            "_model_module_version": "1.2.0",
            "_view_count": null,
            "flex_flow": null,
            "width": null,
            "min_width": null,
            "border": null,
            "align_items": null,
            "bottom": null,
            "_model_module": "@jupyter-widgets/base",
            "top": null,
            "grid_column": null,
            "overflow_y": null,
            "overflow_x": null,
            "grid_auto_flow": null,
            "grid_area": null,
            "grid_template_columns": null,
            "flex": null,
            "_model_name": "LayoutModel",
            "justify_items": null,
            "grid_row": null,
            "max_height": null,
            "align_content": null,
            "visibility": null,
            "align_self": null,
            "height": null,
            "min_height": null,
            "padding": null,
            "grid_auto_rows": null,
            "grid_gap": null,
            "max_width": null,
            "order": null,
            "_view_module_version": "1.2.0",
            "grid_template_areas": null,
            "object_position": null,
            "object_fit": null,
            "grid_auto_columns": null,
            "margin": null,
            "display": null,
            "left": null
          }
        }
      }
    }
  },
  "cells": [
    {
      "cell_type": "code",
      "metadata": {
        "id": "TjM7oSpONJTa"
      },
      "source": [
        "import csv\r\n",
        "import torch\r\n",
        "import pandas as pd\r\n",
        "from tqdm.notebook import tqdm"
      ],
      "execution_count": 2,
      "outputs": []
    },
    {
      "cell_type": "code",
      "metadata": {
        "colab": {
          "base_uri": "https://localhost:8080/",
          "height": 428
        },
        "id": "e7d2dJ0pNNx4",
        "outputId": "946617ec-8afb-478c-fbd5-4602f63799d7"
      },
      "source": [
        "df = pd.read_csv('IMDB.csv',names = ['id','text','category'])\r\n",
        "df.set_index('id', inplace = True)\r\n",
        "df.category.value_counts()\r\n",
        "df"
      ],
      "execution_count": 34,
      "outputs": [
        {
          "output_type": "execute_result",
          "data": {
            "text/html": [
              "<div>\n",
              "<style scoped>\n",
              "    .dataframe tbody tr th:only-of-type {\n",
              "        vertical-align: middle;\n",
              "    }\n",
              "\n",
              "    .dataframe tbody tr th {\n",
              "        vertical-align: top;\n",
              "    }\n",
              "\n",
              "    .dataframe thead th {\n",
              "        text-align: right;\n",
              "    }\n",
              "</style>\n",
              "<table border=\"1\" class=\"dataframe\">\n",
              "  <thead>\n",
              "    <tr style=\"text-align: right;\">\n",
              "      <th></th>\n",
              "      <th>text</th>\n",
              "      <th>category</th>\n",
              "    </tr>\n",
              "    <tr>\n",
              "      <th>id</th>\n",
              "      <th></th>\n",
              "      <th></th>\n",
              "    </tr>\n",
              "  </thead>\n",
              "  <tbody>\n",
              "    <tr>\n",
              "      <th>1</th>\n",
              "      <td>One of the other reviewers has mentioned that ...</td>\n",
              "      <td>positive</td>\n",
              "    </tr>\n",
              "    <tr>\n",
              "      <th>2</th>\n",
              "      <td>A wonderful little production br br The filmin...</td>\n",
              "      <td>positive</td>\n",
              "    </tr>\n",
              "    <tr>\n",
              "      <th>3</th>\n",
              "      <td>I thought this was a wonderful way to spend ti...</td>\n",
              "      <td>positive</td>\n",
              "    </tr>\n",
              "    <tr>\n",
              "      <th>4</th>\n",
              "      <td>Basically theres a family where a little boy J...</td>\n",
              "      <td>negative</td>\n",
              "    </tr>\n",
              "    <tr>\n",
              "      <th>5</th>\n",
              "      <td>Petter Matteis Love in the Time of Money is a ...</td>\n",
              "      <td>positive</td>\n",
              "    </tr>\n",
              "    <tr>\n",
              "      <th>...</th>\n",
              "      <td>...</td>\n",
              "      <td>...</td>\n",
              "    </tr>\n",
              "    <tr>\n",
              "      <th>6545</th>\n",
              "      <td>The Secret of Kells is an independent animated...</td>\n",
              "      <td>positive</td>\n",
              "    </tr>\n",
              "    <tr>\n",
              "      <th>6546</th>\n",
              "      <td>This is a cleaver film featuring love through ...</td>\n",
              "      <td>positive</td>\n",
              "    </tr>\n",
              "    <tr>\n",
              "      <th>6547</th>\n",
              "      <td>All the boys seem to be sexually aroused by Ma...</td>\n",
              "      <td>negative</td>\n",
              "    </tr>\n",
              "    <tr>\n",
              "      <th>6548</th>\n",
              "      <td>br br I rented this movie on 20 June 2001 and ...</td>\n",
              "      <td>negative</td>\n",
              "    </tr>\n",
              "    <tr>\n",
              "      <th>6549</th>\n",
              "      <td>The best thing about this movie for me was tha...</td>\n",
              "      <td>NaN</td>\n",
              "    </tr>\n",
              "  </tbody>\n",
              "</table>\n",
              "<p>6536 rows × 2 columns</p>\n",
              "</div>"
            ],
            "text/plain": [
              "                                                   text  category\n",
              "id                                                               \n",
              "1     One of the other reviewers has mentioned that ...  positive\n",
              "2     A wonderful little production br br The filmin...  positive\n",
              "3     I thought this was a wonderful way to spend ti...  positive\n",
              "4     Basically theres a family where a little boy J...  negative\n",
              "5     Petter Matteis Love in the Time of Money is a ...  positive\n",
              "...                                                 ...       ...\n",
              "6545  The Secret of Kells is an independent animated...  positive\n",
              "6546  This is a cleaver film featuring love through ...  positive\n",
              "6547  All the boys seem to be sexually aroused by Ma...  negative\n",
              "6548  br br I rented this movie on 20 June 2001 and ...  negative\n",
              "6549  The best thing about this movie for me was tha...       NaN\n",
              "\n",
              "[6536 rows x 2 columns]"
            ]
          },
          "metadata": {
            "tags": []
          },
          "execution_count": 34
        }
      ]
    },
    {
      "cell_type": "code",
      "metadata": {
        "colab": {
          "base_uri": "https://localhost:8080/"
        },
        "id": "g76TfwzuNQGn",
        "outputId": "34d8c867-ae35-4312-ed1d-ab62104055e5"
      },
      "source": [
        "df = df[df.category != \"NaN\"]\r\n",
        "df.category.value_counts()"
      ],
      "execution_count": 3,
      "outputs": [
        {
          "output_type": "execute_result",
          "data": {
            "text/plain": [
              "negative    406\n",
              "positive    392\n",
              "Name: category, dtype: int64"
            ]
          },
          "metadata": {
            "tags": []
          },
          "execution_count": 3
        }
      ]
    },
    {
      "cell_type": "code",
      "metadata": {
        "id": "6kLzTFeINSaQ"
      },
      "source": [
        "possible_labels = df.category.unique()\r\n",
        "label_dict={}\r\n",
        "for index,possible_label in enumerate(possible_labels):\r\n",
        "  label_dict[possible_label] = index"
      ],
      "execution_count": 4,
      "outputs": []
    },
    {
      "cell_type": "code",
      "metadata": {
        "colab": {
          "base_uri": "https://localhost:8080/",
          "height": 223
        },
        "id": "tD1pXw0rNUFL",
        "outputId": "731ef71b-ee4b-4c38-c0af-ba7c525971fc"
      },
      "source": [
        "df['label'] = df.category.replace(label_dict)\r\n",
        "df.head()"
      ],
      "execution_count": 6,
      "outputs": [
        {
          "output_type": "execute_result",
          "data": {
            "text/html": [
              "<div>\n",
              "<style scoped>\n",
              "    .dataframe tbody tr th:only-of-type {\n",
              "        vertical-align: middle;\n",
              "    }\n",
              "\n",
              "    .dataframe tbody tr th {\n",
              "        vertical-align: top;\n",
              "    }\n",
              "\n",
              "    .dataframe thead th {\n",
              "        text-align: right;\n",
              "    }\n",
              "</style>\n",
              "<table border=\"1\" class=\"dataframe\">\n",
              "  <thead>\n",
              "    <tr style=\"text-align: right;\">\n",
              "      <th></th>\n",
              "      <th>text</th>\n",
              "      <th>category</th>\n",
              "      <th>label</th>\n",
              "    </tr>\n",
              "    <tr>\n",
              "      <th>id</th>\n",
              "      <th></th>\n",
              "      <th></th>\n",
              "      <th></th>\n",
              "    </tr>\n",
              "  </thead>\n",
              "  <tbody>\n",
              "    <tr>\n",
              "      <th>1</th>\n",
              "      <td>One of the other reviewers has mentioned that ...</td>\n",
              "      <td>positive</td>\n",
              "      <td>0</td>\n",
              "    </tr>\n",
              "    <tr>\n",
              "      <th>2</th>\n",
              "      <td>A wonderful little production br br The filmin...</td>\n",
              "      <td>positive</td>\n",
              "      <td>0</td>\n",
              "    </tr>\n",
              "    <tr>\n",
              "      <th>3</th>\n",
              "      <td>I thought this was a wonderful way to spend ti...</td>\n",
              "      <td>positive</td>\n",
              "      <td>0</td>\n",
              "    </tr>\n",
              "    <tr>\n",
              "      <th>4</th>\n",
              "      <td>Basically theres a family where a little boy J...</td>\n",
              "      <td>negative</td>\n",
              "      <td>1</td>\n",
              "    </tr>\n",
              "    <tr>\n",
              "      <th>5</th>\n",
              "      <td>Petter Matteis Love in the Time of Money is a ...</td>\n",
              "      <td>positive</td>\n",
              "      <td>0</td>\n",
              "    </tr>\n",
              "  </tbody>\n",
              "</table>\n",
              "</div>"
            ],
            "text/plain": [
              "                                                 text  category  label\n",
              "id                                                                    \n",
              "1   One of the other reviewers has mentioned that ...  positive      0\n",
              "2   A wonderful little production br br The filmin...  positive      0\n",
              "3   I thought this was a wonderful way to spend ti...  positive      0\n",
              "4   Basically theres a family where a little boy J...  negative      1\n",
              "5   Petter Matteis Love in the Time of Money is a ...  positive      0"
            ]
          },
          "metadata": {
            "tags": []
          },
          "execution_count": 6
        }
      ]
    },
    {
      "cell_type": "code",
      "metadata": {
        "id": "aDbFLrPaNVyh"
      },
      "source": [
        "from sklearn.model_selection import train_test_split\r\n",
        "\r\n",
        "X_train, X_val, y_train, y_val = train_test_split(\r\n",
        "    df.index.values,\r\n",
        "    df.label.values,\r\n",
        "    test_size = 0.15,\r\n",
        "    random_state = 17,\r\n",
        "    \r\n",
        ")"
      ],
      "execution_count": 7,
      "outputs": []
    },
    {
      "cell_type": "code",
      "metadata": {
        "id": "F87E6gnNNaOO"
      },
      "source": [
        "df ['data_type'] = ['not_set']*df.shape[0]"
      ],
      "execution_count": 8,
      "outputs": []
    },
    {
      "cell_type": "code",
      "metadata": {
        "id": "1CIRERfhNbtU"
      },
      "source": [
        "df.loc[X_train, 'data_type'] = 'train'\r\n",
        "df.loc[X_val, 'data_type'] = 'val'"
      ],
      "execution_count": 10,
      "outputs": []
    },
    {
      "cell_type": "code",
      "metadata": {
        "colab": {
          "base_uri": "https://localhost:8080/"
        },
        "id": "aUvgZHGRNdNa",
        "outputId": "6ce485da-3f9a-40ef-aefe-9b7772e5fd7c"
      },
      "source": [
        "df.groupby(['category', 'label', 'data_type'])"
      ],
      "execution_count": 11,
      "outputs": [
        {
          "output_type": "execute_result",
          "data": {
            "text/plain": [
              "<pandas.core.groupby.generic.DataFrameGroupBy object at 0x7f9bbccb0128>"
            ]
          },
          "metadata": {
            "tags": []
          },
          "execution_count": 11
        }
      ]
    },
    {
      "cell_type": "code",
      "metadata": {
        "colab": {
          "base_uri": "https://localhost:8080/"
        },
        "id": "K_dDkEU0NfFu",
        "outputId": "336231f1-e75a-490c-da54-821bb3b6af28"
      },
      "source": [
        "!pip install transformers\r\n",
        "from transformers import BertTokenizer\r\n",
        "from torch.utils.data import TensorDataset"
      ],
      "execution_count": 12,
      "outputs": [
        {
          "output_type": "stream",
          "text": [
            "Collecting transformers\n",
            "\u001b[?25l  Downloading https://files.pythonhosted.org/packages/ed/db/98c3ea1a78190dac41c0127a063abf92bd01b4b0b6970a6db1c2f5b66fa0/transformers-4.0.1-py3-none-any.whl (1.4MB)\n",
            "\r\u001b[K     |▎                               | 10kB 17.2MB/s eta 0:00:01\r\u001b[K     |▌                               | 20kB 23.5MB/s eta 0:00:01\r\u001b[K     |▊                               | 30kB 24.6MB/s eta 0:00:01\r\u001b[K     |█                               | 40kB 17.1MB/s eta 0:00:01\r\u001b[K     |█▏                              | 51kB 17.3MB/s eta 0:00:01\r\u001b[K     |█▌                              | 61kB 13.6MB/s eta 0:00:01\r\u001b[K     |█▊                              | 71kB 15.0MB/s eta 0:00:01\r\u001b[K     |██                              | 81kB 14.2MB/s eta 0:00:01\r\u001b[K     |██▏                             | 92kB 13.5MB/s eta 0:00:01\r\u001b[K     |██▍                             | 102kB 13.6MB/s eta 0:00:01\r\u001b[K     |██▋                             | 112kB 13.6MB/s eta 0:00:01\r\u001b[K     |███                             | 122kB 13.6MB/s eta 0:00:01\r\u001b[K     |███▏                            | 133kB 13.6MB/s eta 0:00:01\r\u001b[K     |███▍                            | 143kB 13.6MB/s eta 0:00:01\r\u001b[K     |███▋                            | 153kB 13.6MB/s eta 0:00:01\r\u001b[K     |███▉                            | 163kB 13.6MB/s eta 0:00:01\r\u001b[K     |████▏                           | 174kB 13.6MB/s eta 0:00:01\r\u001b[K     |████▍                           | 184kB 13.6MB/s eta 0:00:01\r\u001b[K     |████▋                           | 194kB 13.6MB/s eta 0:00:01\r\u001b[K     |████▉                           | 204kB 13.6MB/s eta 0:00:01\r\u001b[K     |█████                           | 215kB 13.6MB/s eta 0:00:01\r\u001b[K     |█████▎                          | 225kB 13.6MB/s eta 0:00:01\r\u001b[K     |█████▋                          | 235kB 13.6MB/s eta 0:00:01\r\u001b[K     |█████▉                          | 245kB 13.6MB/s eta 0:00:01\r\u001b[K     |██████                          | 256kB 13.6MB/s eta 0:00:01\r\u001b[K     |██████▎                         | 266kB 13.6MB/s eta 0:00:01\r\u001b[K     |██████▌                         | 276kB 13.6MB/s eta 0:00:01\r\u001b[K     |██████▉                         | 286kB 13.6MB/s eta 0:00:01\r\u001b[K     |███████                         | 296kB 13.6MB/s eta 0:00:01\r\u001b[K     |███████▎                        | 307kB 13.6MB/s eta 0:00:01\r\u001b[K     |███████▌                        | 317kB 13.6MB/s eta 0:00:01\r\u001b[K     |███████▊                        | 327kB 13.6MB/s eta 0:00:01\r\u001b[K     |████████                        | 337kB 13.6MB/s eta 0:00:01\r\u001b[K     |████████▎                       | 348kB 13.6MB/s eta 0:00:01\r\u001b[K     |████████▌                       | 358kB 13.6MB/s eta 0:00:01\r\u001b[K     |████████▊                       | 368kB 13.6MB/s eta 0:00:01\r\u001b[K     |█████████                       | 378kB 13.6MB/s eta 0:00:01\r\u001b[K     |█████████▏                      | 389kB 13.6MB/s eta 0:00:01\r\u001b[K     |█████████▌                      | 399kB 13.6MB/s eta 0:00:01\r\u001b[K     |█████████▊                      | 409kB 13.6MB/s eta 0:00:01\r\u001b[K     |██████████                      | 419kB 13.6MB/s eta 0:00:01\r\u001b[K     |██████████▏                     | 430kB 13.6MB/s eta 0:00:01\r\u001b[K     |██████████▍                     | 440kB 13.6MB/s eta 0:00:01\r\u001b[K     |██████████▋                     | 450kB 13.6MB/s eta 0:00:01\r\u001b[K     |███████████                     | 460kB 13.6MB/s eta 0:00:01\r\u001b[K     |███████████▏                    | 471kB 13.6MB/s eta 0:00:01\r\u001b[K     |███████████▍                    | 481kB 13.6MB/s eta 0:00:01\r\u001b[K     |███████████▋                    | 491kB 13.6MB/s eta 0:00:01\r\u001b[K     |███████████▉                    | 501kB 13.6MB/s eta 0:00:01\r\u001b[K     |████████████▏                   | 512kB 13.6MB/s eta 0:00:01\r\u001b[K     |████████████▍                   | 522kB 13.6MB/s eta 0:00:01\r\u001b[K     |████████████▋                   | 532kB 13.6MB/s eta 0:00:01\r\u001b[K     |████████████▉                   | 542kB 13.6MB/s eta 0:00:01\r\u001b[K     |█████████████                   | 552kB 13.6MB/s eta 0:00:01\r\u001b[K     |█████████████▎                  | 563kB 13.6MB/s eta 0:00:01\r\u001b[K     |█████████████▋                  | 573kB 13.6MB/s eta 0:00:01\r\u001b[K     |█████████████▉                  | 583kB 13.6MB/s eta 0:00:01\r\u001b[K     |██████████████                  | 593kB 13.6MB/s eta 0:00:01\r\u001b[K     |██████████████▎                 | 604kB 13.6MB/s eta 0:00:01\r\u001b[K     |██████████████▌                 | 614kB 13.6MB/s eta 0:00:01\r\u001b[K     |██████████████▉                 | 624kB 13.6MB/s eta 0:00:01\r\u001b[K     |███████████████                 | 634kB 13.6MB/s eta 0:00:01\r\u001b[K     |███████████████▎                | 645kB 13.6MB/s eta 0:00:01\r\u001b[K     |███████████████▌                | 655kB 13.6MB/s eta 0:00:01\r\u001b[K     |███████████████▊                | 665kB 13.6MB/s eta 0:00:01\r\u001b[K     |████████████████                | 675kB 13.6MB/s eta 0:00:01\r\u001b[K     |████████████████▎               | 686kB 13.6MB/s eta 0:00:01\r\u001b[K     |████████████████▌               | 696kB 13.6MB/s eta 0:00:01\r\u001b[K     |████████████████▊               | 706kB 13.6MB/s eta 0:00:01\r\u001b[K     |█████████████████               | 716kB 13.6MB/s eta 0:00:01\r\u001b[K     |█████████████████▏              | 727kB 13.6MB/s eta 0:00:01\r\u001b[K     |█████████████████▌              | 737kB 13.6MB/s eta 0:00:01\r\u001b[K     |█████████████████▊              | 747kB 13.6MB/s eta 0:00:01\r\u001b[K     |██████████████████              | 757kB 13.6MB/s eta 0:00:01\r\u001b[K     |██████████████████▏             | 768kB 13.6MB/s eta 0:00:01\r\u001b[K     |██████████████████▍             | 778kB 13.6MB/s eta 0:00:01\r\u001b[K     |██████████████████▋             | 788kB 13.6MB/s eta 0:00:01\r\u001b[K     |███████████████████             | 798kB 13.6MB/s eta 0:00:01\r\u001b[K     |███████████████████▏            | 808kB 13.6MB/s eta 0:00:01\r\u001b[K     |███████████████████▍            | 819kB 13.6MB/s eta 0:00:01\r\u001b[K     |███████████████████▋            | 829kB 13.6MB/s eta 0:00:01\r\u001b[K     |███████████████████▉            | 839kB 13.6MB/s eta 0:00:01\r\u001b[K     |████████████████████▏           | 849kB 13.6MB/s eta 0:00:01\r\u001b[K     |████████████████████▍           | 860kB 13.6MB/s eta 0:00:01\r\u001b[K     |████████████████████▋           | 870kB 13.6MB/s eta 0:00:01\r\u001b[K     |████████████████████▉           | 880kB 13.6MB/s eta 0:00:01\r\u001b[K     |█████████████████████           | 890kB 13.6MB/s eta 0:00:01\r\u001b[K     |█████████████████████▎          | 901kB 13.6MB/s eta 0:00:01\r\u001b[K     |█████████████████████▋          | 911kB 13.6MB/s eta 0:00:01\r\u001b[K     |█████████████████████▉          | 921kB 13.6MB/s eta 0:00:01\r\u001b[K     |██████████████████████          | 931kB 13.6MB/s eta 0:00:01\r\u001b[K     |██████████████████████▎         | 942kB 13.6MB/s eta 0:00:01\r\u001b[K     |██████████████████████▌         | 952kB 13.6MB/s eta 0:00:01\r\u001b[K     |██████████████████████▊         | 962kB 13.6MB/s eta 0:00:01\r\u001b[K     |███████████████████████         | 972kB 13.6MB/s eta 0:00:01\r\u001b[K     |███████████████████████▎        | 983kB 13.6MB/s eta 0:00:01\r\u001b[K     |███████████████████████▌        | 993kB 13.6MB/s eta 0:00:01\r\u001b[K     |███████████████████████▊        | 1.0MB 13.6MB/s eta 0:00:01\r\u001b[K     |████████████████████████        | 1.0MB 13.6MB/s eta 0:00:01\r\u001b[K     |████████████████████████▎       | 1.0MB 13.6MB/s eta 0:00:01\r\u001b[K     |████████████████████████▌       | 1.0MB 13.6MB/s eta 0:00:01\r\u001b[K     |████████████████████████▊       | 1.0MB 13.6MB/s eta 0:00:01\r\u001b[K     |█████████████████████████       | 1.1MB 13.6MB/s eta 0:00:01\r\u001b[K     |█████████████████████████▏      | 1.1MB 13.6MB/s eta 0:00:01\r\u001b[K     |█████████████████████████▍      | 1.1MB 13.6MB/s eta 0:00:01\r\u001b[K     |█████████████████████████▊      | 1.1MB 13.6MB/s eta 0:00:01\r\u001b[K     |██████████████████████████      | 1.1MB 13.6MB/s eta 0:00:01\r\u001b[K     |██████████████████████████▏     | 1.1MB 13.6MB/s eta 0:00:01\r\u001b[K     |██████████████████████████▍     | 1.1MB 13.6MB/s eta 0:00:01\r\u001b[K     |██████████████████████████▋     | 1.1MB 13.6MB/s eta 0:00:01\r\u001b[K     |███████████████████████████     | 1.1MB 13.6MB/s eta 0:00:01\r\u001b[K     |███████████████████████████▏    | 1.1MB 13.6MB/s eta 0:00:01\r\u001b[K     |███████████████████████████▍    | 1.2MB 13.6MB/s eta 0:00:01\r\u001b[K     |███████████████████████████▋    | 1.2MB 13.6MB/s eta 0:00:01\r\u001b[K     |███████████████████████████▉    | 1.2MB 13.6MB/s eta 0:00:01\r\u001b[K     |████████████████████████████    | 1.2MB 13.6MB/s eta 0:00:01\r\u001b[K     |████████████████████████████▍   | 1.2MB 13.6MB/s eta 0:00:01\r\u001b[K     |████████████████████████████▋   | 1.2MB 13.6MB/s eta 0:00:01\r\u001b[K     |████████████████████████████▉   | 1.2MB 13.6MB/s eta 0:00:01\r\u001b[K     |█████████████████████████████   | 1.2MB 13.6MB/s eta 0:00:01\r\u001b[K     |█████████████████████████████▎  | 1.2MB 13.6MB/s eta 0:00:01\r\u001b[K     |█████████████████████████████▋  | 1.2MB 13.6MB/s eta 0:00:01\r\u001b[K     |█████████████████████████████▉  | 1.3MB 13.6MB/s eta 0:00:01\r\u001b[K     |██████████████████████████████  | 1.3MB 13.6MB/s eta 0:00:01\r\u001b[K     |██████████████████████████████▎ | 1.3MB 13.6MB/s eta 0:00:01\r\u001b[K     |██████████████████████████████▌ | 1.3MB 13.6MB/s eta 0:00:01\r\u001b[K     |██████████████████████████████▊ | 1.3MB 13.6MB/s eta 0:00:01\r\u001b[K     |███████████████████████████████ | 1.3MB 13.6MB/s eta 0:00:01\r\u001b[K     |███████████████████████████████▎| 1.3MB 13.6MB/s eta 0:00:01\r\u001b[K     |███████████████████████████████▌| 1.3MB 13.6MB/s eta 0:00:01\r\u001b[K     |███████████████████████████████▊| 1.3MB 13.6MB/s eta 0:00:01\r\u001b[K     |████████████████████████████████| 1.4MB 13.6MB/s eta 0:00:01\r\u001b[K     |████████████████████████████████| 1.4MB 13.6MB/s \n",
            "\u001b[?25hRequirement already satisfied: filelock in /usr/local/lib/python3.6/dist-packages (from transformers) (3.0.12)\n",
            "Requirement already satisfied: packaging in /usr/local/lib/python3.6/dist-packages (from transformers) (20.7)\n",
            "Requirement already satisfied: requests in /usr/local/lib/python3.6/dist-packages (from transformers) (2.23.0)\n",
            "Collecting tokenizers==0.9.4\n",
            "\u001b[?25l  Downloading https://files.pythonhosted.org/packages/0f/1c/e789a8b12e28be5bc1ce2156cf87cb522b379be9cadc7ad8091a4cc107c4/tokenizers-0.9.4-cp36-cp36m-manylinux2010_x86_64.whl (2.9MB)\n",
            "\u001b[K     |████████████████████████████████| 2.9MB 42.8MB/s \n",
            "\u001b[?25hRequirement already satisfied: dataclasses; python_version < \"3.7\" in /usr/local/lib/python3.6/dist-packages (from transformers) (0.8)\n",
            "Requirement already satisfied: tqdm>=4.27 in /usr/local/lib/python3.6/dist-packages (from transformers) (4.41.1)\n",
            "Collecting sacremoses\n",
            "\u001b[?25l  Downloading https://files.pythonhosted.org/packages/7d/34/09d19aff26edcc8eb2a01bed8e98f13a1537005d31e95233fd48216eed10/sacremoses-0.0.43.tar.gz (883kB)\n",
            "\u001b[K     |████████████████████████████████| 890kB 45.5MB/s \n",
            "\u001b[?25hRequirement already satisfied: numpy in /usr/local/lib/python3.6/dist-packages (from transformers) (1.18.5)\n",
            "Requirement already satisfied: regex!=2019.12.17 in /usr/local/lib/python3.6/dist-packages (from transformers) (2019.12.20)\n",
            "Requirement already satisfied: pyparsing>=2.0.2 in /usr/local/lib/python3.6/dist-packages (from packaging->transformers) (2.4.7)\n",
            "Requirement already satisfied: urllib3!=1.25.0,!=1.25.1,<1.26,>=1.21.1 in /usr/local/lib/python3.6/dist-packages (from requests->transformers) (1.24.3)\n",
            "Requirement already satisfied: certifi>=2017.4.17 in /usr/local/lib/python3.6/dist-packages (from requests->transformers) (2020.12.5)\n",
            "Requirement already satisfied: chardet<4,>=3.0.2 in /usr/local/lib/python3.6/dist-packages (from requests->transformers) (3.0.4)\n",
            "Requirement already satisfied: idna<3,>=2.5 in /usr/local/lib/python3.6/dist-packages (from requests->transformers) (2.10)\n",
            "Requirement already satisfied: six in /usr/local/lib/python3.6/dist-packages (from sacremoses->transformers) (1.15.0)\n",
            "Requirement already satisfied: click in /usr/local/lib/python3.6/dist-packages (from sacremoses->transformers) (7.1.2)\n",
            "Requirement already satisfied: joblib in /usr/local/lib/python3.6/dist-packages (from sacremoses->transformers) (0.17.0)\n",
            "Building wheels for collected packages: sacremoses\n",
            "  Building wheel for sacremoses (setup.py) ... \u001b[?25l\u001b[?25hdone\n",
            "  Created wheel for sacremoses: filename=sacremoses-0.0.43-cp36-none-any.whl size=893261 sha256=065c081c3ee76cbbe8e45f865630950e762d12ec9acc1c25f4688285e53f2536\n",
            "  Stored in directory: /root/.cache/pip/wheels/29/3c/fd/7ce5c3f0666dab31a50123635e6fb5e19ceb42ce38d4e58f45\n",
            "Successfully built sacremoses\n",
            "Installing collected packages: tokenizers, sacremoses, transformers\n",
            "Successfully installed sacremoses-0.0.43 tokenizers-0.9.4 transformers-4.0.1\n"
          ],
          "name": "stdout"
        }
      ]
    },
    {
      "cell_type": "code",
      "metadata": {
        "colab": {
          "base_uri": "https://localhost:8080/",
          "height": 67,
          "referenced_widgets": [
            "c000d2391ed04bdcbc7a6fb59c5c3193",
            "23678bec133744549ebdecfc49cd8f9d",
            "e02a1e2c273b4e84b135a2d8f34f40bb",
            "35d29720e80b470f83ba20fa5a5e3a72",
            "578ba8a4c263461b9c730785f725f71b",
            "e4a6731c4eac4f95815a594ea2095f68",
            "c7a90da63bcb48f4963b3772754c093b",
            "91108ea05b784504a17c0160c31bccee"
          ]
        },
        "id": "TfBGrtOeNgmY",
        "outputId": "2981518b-f05e-4a98-ad8a-6f523a78d06a"
      },
      "source": [
        "tokenizer = BertTokenizer.from_pretrained(\r\n",
        "    'bert-base-uncased',\r\n",
        "    do_lower_case = True\r\n",
        ")"
      ],
      "execution_count": 13,
      "outputs": [
        {
          "output_type": "display_data",
          "data": {
            "application/vnd.jupyter.widget-view+json": {
              "model_id": "c000d2391ed04bdcbc7a6fb59c5c3193",
              "version_minor": 0,
              "version_major": 2
            },
            "text/plain": [
              "HBox(children=(FloatProgress(value=0.0, description='Downloading', max=231508.0, style=ProgressStyle(descripti…"
            ]
          },
          "metadata": {
            "tags": []
          }
        },
        {
          "output_type": "stream",
          "text": [
            "\n"
          ],
          "name": "stdout"
        }
      ]
    },
    {
      "cell_type": "code",
      "metadata": {
        "colab": {
          "base_uri": "https://localhost:8080/"
        },
        "id": "poK2etZsNiEr",
        "outputId": "3554081a-73e4-4c55-a1e6-a6c9f2e0add3"
      },
      "source": [
        "encoded_data_train = tokenizer.batch_encode_plus(\r\n",
        "    df[df.data_type == 'train'].text.values,\r\n",
        "    add_special_tokens = True,\r\n",
        "    return_attention_mask = True,\r\n",
        "    pad_to_max_length =True,\r\n",
        "    max_length = 256,\r\n",
        "    return_tensors = 'pt'\r\n",
        ")\r\n",
        "\r\n",
        "encoded_data_val = tokenizer.batch_encode_plus(\r\n",
        "    df[df.data_type == 'val'].text.values,\r\n",
        "    add_special_tokens = True,\r\n",
        "    return_attention_mask = True,\r\n",
        "    pad_to_max_length =True,\r\n",
        "    max_length = 256,\r\n",
        "    return_tensors = 'pt'\r\n",
        ")\r\n",
        "\r\n",
        "input_ids_train = encoded_data_train['input_ids']\r\n",
        "attention_masks_train = encoded_data_train['attention_mask']\r\n",
        "labels_train = torch.tensor(df[df.data_type == 'train'].label.values)\r\n",
        "\r\n",
        "input_ids_val = encoded_data_val['input_ids']\r\n",
        "attention_masks_val = encoded_data_val['attention_mask']\r\n",
        "labels_val = torch.tensor(df[df.data_type == 'val'].label.values)"
      ],
      "execution_count": 14,
      "outputs": [
        {
          "output_type": "stream",
          "text": [
            "Truncation was not explicitly activated but `max_length` is provided a specific value, please use `truncation=True` to explicitly truncate examples to max length. Defaulting to 'longest_first' truncation strategy. If you encode pairs of sequences (GLUE-style) with the tokenizer you can select this strategy more precisely by providing a specific strategy to `truncation`.\n",
            "/usr/local/lib/python3.6/dist-packages/transformers/tokenization_utils_base.py:2142: FutureWarning: The `pad_to_max_length` argument is deprecated and will be removed in a future version, use `padding=True` or `padding='longest'` to pad to the longest sequence in the batch, or use `padding='max_length'` to pad to a max length. In this case, you can give a specific length with `max_length` (e.g. `max_length=45`) or leave max_length to None to pad to the maximal input size of the model (e.g. 512 for Bert).\n",
            "  FutureWarning,\n"
          ],
          "name": "stderr"
        }
      ]
    },
    {
      "cell_type": "code",
      "metadata": {
        "id": "DjDJS-3mNjOF"
      },
      "source": [
        "dataset_train = TensorDataset(input_ids_train,\r\n",
        "                              attention_masks_train,labels_train)\r\n",
        "dataset_val = TensorDataset(input_ids_val,\r\n",
        "                              attention_masks_val,labels_val)"
      ],
      "execution_count": 15,
      "outputs": []
    },
    {
      "cell_type": "code",
      "metadata": {
        "colab": {
          "base_uri": "https://localhost:8080/"
        },
        "id": "IcDMM4bTNke0",
        "outputId": "32ed16d4-6f24-4aea-b6bb-0b518b98ce9f"
      },
      "source": [
        "len(dataset_train)\r\n",
        "len(dataset_val)"
      ],
      "execution_count": 16,
      "outputs": [
        {
          "output_type": "execute_result",
          "data": {
            "text/plain": [
              "120"
            ]
          },
          "metadata": {
            "tags": []
          },
          "execution_count": 16
        }
      ]
    },
    {
      "cell_type": "code",
      "metadata": {
        "colab": {
          "base_uri": "https://localhost:8080/",
          "height": 225,
          "referenced_widgets": [
            "ef3030bd780f48c0be48b290615345e4",
            "3907fbb291c44f48866060cf0b2eb2f6",
            "50ba9dbb9b344077a50fff475f79a8f7",
            "66966685054e457e8e114e01720df9a2",
            "e9afd61ae2ab40adb58fab8f19491edf",
            "7733e21328764896b0da4f2984708746",
            "db4c7252210a47c4a8c7beb5a0ec0b73",
            "024e92a55e62414d821973d177aae59f",
            "cce069cafbfe4342a0d4b2c6f44c73af",
            "b6224617c6c44d2595979dd7dd714a16",
            "5ef32dc1f70047d2bbd293e553d6aaac",
            "32f10ad86f1c4d6d866538c7f278cf08",
            "179050862edc46db83ee4b9a937bf179",
            "2146861b20244574943514b3306f0148",
            "3591e996fc024cba8309eea9b9b07651",
            "783f3afde4c04bb0831e9b106820ae7c"
          ]
        },
        "id": "ESNtWsVXNmH9",
        "outputId": "11aeddeb-3d6a-4355-fa63-807fc9c28eed"
      },
      "source": [
        "from transformers import BertForSequenceClassification\r\n",
        "\r\n",
        "model = BertForSequenceClassification.from_pretrained(\r\n",
        "    'bert-base-uncased',\r\n",
        "    num_labels = len(label_dict),\r\n",
        "    output_attentions = False,\r\n",
        "    output_hidden_states = False\r\n",
        ")"
      ],
      "execution_count": 17,
      "outputs": [
        {
          "output_type": "display_data",
          "data": {
            "application/vnd.jupyter.widget-view+json": {
              "model_id": "ef3030bd780f48c0be48b290615345e4",
              "version_minor": 0,
              "version_major": 2
            },
            "text/plain": [
              "HBox(children=(FloatProgress(value=0.0, description='Downloading', max=433.0, style=ProgressStyle(description_…"
            ]
          },
          "metadata": {
            "tags": []
          }
        },
        {
          "output_type": "stream",
          "text": [
            "\n"
          ],
          "name": "stdout"
        },
        {
          "output_type": "display_data",
          "data": {
            "application/vnd.jupyter.widget-view+json": {
              "model_id": "cce069cafbfe4342a0d4b2c6f44c73af",
              "version_minor": 0,
              "version_major": 2
            },
            "text/plain": [
              "HBox(children=(FloatProgress(value=0.0, description='Downloading', max=440473133.0, style=ProgressStyle(descri…"
            ]
          },
          "metadata": {
            "tags": []
          }
        },
        {
          "output_type": "stream",
          "text": [
            "\n"
          ],
          "name": "stdout"
        },
        {
          "output_type": "stream",
          "text": [
            "Some weights of the model checkpoint at bert-base-uncased were not used when initializing BertForSequenceClassification: ['cls.predictions.bias', 'cls.predictions.transform.dense.weight', 'cls.predictions.transform.dense.bias', 'cls.predictions.decoder.weight', 'cls.seq_relationship.weight', 'cls.seq_relationship.bias', 'cls.predictions.transform.LayerNorm.weight', 'cls.predictions.transform.LayerNorm.bias']\n",
            "- This IS expected if you are initializing BertForSequenceClassification from the checkpoint of a model trained on another task or with another architecture (e.g. initializing a BertForSequenceClassification model from a BertForPreTraining model).\n",
            "- This IS NOT expected if you are initializing BertForSequenceClassification from the checkpoint of a model that you expect to be exactly identical (initializing a BertForSequenceClassification model from a BertForSequenceClassification model).\n",
            "Some weights of BertForSequenceClassification were not initialized from the model checkpoint at bert-base-uncased and are newly initialized: ['classifier.weight', 'classifier.bias']\n",
            "You should probably TRAIN this model on a down-stream task to be able to use it for predictions and inference.\n"
          ],
          "name": "stderr"
        }
      ]
    },
    {
      "cell_type": "code",
      "metadata": {
        "id": "7dt8jihJNpee"
      },
      "source": [
        "from torch.utils.data import DataLoader, RandomSampler, SequentialSampler"
      ],
      "execution_count": 18,
      "outputs": []
    },
    {
      "cell_type": "code",
      "metadata": {
        "id": "XaL7TdSWNqth"
      },
      "source": [
        "batch_size = 4\r\n",
        "dataloader_train = DataLoader(\r\n",
        "    dataset_train,\r\n",
        "    sampler = RandomSampler(dataset_train),\r\n",
        "    batch_size = batch_size\r\n",
        ")\r\n",
        "\r\n",
        "dataloader_val = DataLoader(\r\n",
        "    dataset_val,\r\n",
        "    sampler = RandomSampler(dataset_val),\r\n",
        "    batch_size = 32\r\n",
        ")"
      ],
      "execution_count": 19,
      "outputs": []
    },
    {
      "cell_type": "code",
      "metadata": {
        "id": "FZ2W-kPVNsv6"
      },
      "source": [
        "from transformers import AdamW, get_linear_schedule_with_warmup\r\n",
        "\r\n",
        "optimizer = AdamW(\r\n",
        "    model.parameters(),\r\n",
        "    lr = 1e-5,\r\n",
        "    eps = 1e-8\r\n",
        ")\r\n",
        "\r\n",
        "epochs = 10\r\n",
        "\r\n",
        "schduler = get_linear_schedule_with_warmup(\r\n",
        "    optimizer,\r\n",
        "    num_warmup_steps = 0,\r\n",
        "    num_training_steps = len(dataloader_train)*epochs\r\n",
        ")"
      ],
      "execution_count": 20,
      "outputs": []
    },
    {
      "cell_type": "code",
      "metadata": {
        "id": "nwC2w6OlNxiD"
      },
      "source": [
        "import numpy as np"
      ],
      "execution_count": 21,
      "outputs": []
    },
    {
      "cell_type": "code",
      "metadata": {
        "id": "mjOwFw_fNyqI"
      },
      "source": [
        "from sklearn.metrics import f1_score"
      ],
      "execution_count": 22,
      "outputs": []
    },
    {
      "cell_type": "code",
      "metadata": {
        "id": "IcXYJ45sNz_D"
      },
      "source": [
        "def f1_score_func(preds, labels):\r\n",
        "    preds_flat = np.argmax(preds, axis=1).flatten()\r\n",
        "    labels_flat = labels.flatten()\r\n",
        "    return f1_score(labels_flat, preds_flat, average='weighted')"
      ],
      "execution_count": 23,
      "outputs": []
    },
    {
      "cell_type": "code",
      "metadata": {
        "id": "JZKInfnMN1Ra"
      },
      "source": [
        "def accuracy_per_class(preds, labels):\r\n",
        "    label_dict_inverse = {v:k for k,v in label_dict.items()}\r\n",
        "\r\n",
        "    preds_flat = np.argmax(preds, axis=1).flatten()\r\n",
        "    labels_flat = labels.flatten()\r\n",
        "\r\n",
        "    for label in np.unique(labels_flat):\r\n",
        "      y_preds = preds_flat[labels_flat == label]\r\n",
        "      y_true = labels_flat[labels_flat == label]\r\n",
        "      print(f'Class:{label_dict_inverse[label]}')\r\n",
        "      print(f'Accuracy:{len(y_preds[y_preds == label])}/{len(y_true)}\\n')"
      ],
      "execution_count": 24,
      "outputs": []
    },
    {
      "cell_type": "code",
      "metadata": {
        "id": "At-oXFxeN3Bk"
      },
      "source": [
        "import random\r\n",
        "\r\n",
        "seed_val = 17\r\n",
        "random.seed(seed_val)\r\n",
        "np.random.seed(seed_val)\r\n",
        "torch.manual_seed(seed_val)\r\n",
        "torch.cuda.manual_seed_all(seed_val)"
      ],
      "execution_count": 25,
      "outputs": []
    },
    {
      "cell_type": "code",
      "metadata": {
        "colab": {
          "base_uri": "https://localhost:8080/"
        },
        "id": "u0f5TAtHN4X4",
        "outputId": "ffbfce9a-3226-4478-dc7d-3657e1b8026c"
      },
      "source": [
        "device = torch.device('cuda' if torch.cuda.is_available() else 'cpu')\r\n",
        "model.to(device)\r\n",
        "\r\n",
        "print(device)"
      ],
      "execution_count": 26,
      "outputs": [
        {
          "output_type": "stream",
          "text": [
            "cpu\n"
          ],
          "name": "stdout"
        }
      ]
    },
    {
      "cell_type": "code",
      "metadata": {
        "id": "4HmEImCZN60I"
      },
      "source": [
        "def evaluate(dataloader_val):\r\n",
        "\r\n",
        "    model.eval()\r\n",
        "    \r\n",
        "    loss_val_total = 0\r\n",
        "    predictions, true_vals = [], []\r\n",
        "    \r\n",
        "    for batch in dataloader_val:\r\n",
        "        \r\n",
        "        batch = tuple(b.to(device) for b in batch)\r\n",
        "        \r\n",
        "        inputs = {'input_ids':      batch[0],\r\n",
        "                  'attention_mask': batch[1],\r\n",
        "                  'labels':         batch[2],\r\n",
        "                 }\r\n",
        "\r\n",
        "        with torch.no_grad():        \r\n",
        "            outputs = model(**inputs)\r\n",
        "            \r\n",
        "        loss = outputs[0]\r\n",
        "        logits = outputs[1]\r\n",
        "        loss_val_total += loss.item()\r\n",
        "\r\n",
        "        logits = logits.detach().cpu().numpy()\r\n",
        "        label_ids = inputs['labels'].cpu().numpy()\r\n",
        "        predictions.append(logits)\r\n",
        "        true_vals.append(label_ids)\r\n",
        "    \r\n",
        "    loss_val_avg = loss_val_total/len(dataloader_val) \r\n",
        "    \r\n",
        "    predictions = np.concatenate(predictions, axis=0)\r\n",
        "    true_vals = np.concatenate(true_vals, axis=0)\r\n",
        "            \r\n",
        "    return loss_val_avg, predictions, true_vals"
      ],
      "execution_count": 27,
      "outputs": []
    },
    {
      "cell_type": "code",
      "metadata": {
        "colab": {
          "base_uri": "https://localhost:8080/",
          "height": 239
        },
        "id": "dN6qVaNaN9Io",
        "outputId": "5398fcad-4829-4fba-b1f0-1205d98e4bf0"
      },
      "source": [
        "for epoch in tqdm(range(1, epochs+1)):\r\n",
        "    model.train()\r\n",
        "    \r\n",
        "    loss_train_total = 0\r\n",
        "\r\n",
        "    progress_bar = tqdm(dataloader_train,\r\n",
        "                        desc = 'Epoch {:1d}'.format(epoch),\r\n",
        "                        leave = False,\r\n",
        "                        disable = False)\r\n",
        "    for batch in progress_bar:\r\n",
        "\r\n",
        "      model.zero_grad()\r\n",
        "\r\n",
        "      batch = tuple(b.to(device) for b in batch)\r\n",
        "\r\n",
        "      inputs = {\r\n",
        "          'input_ids': batch[0],\r\n",
        "          'attention_mask': batch[1],\r\n",
        "          'labels': batch[2]\r\n",
        "      }\r\n",
        "      outputs = model(**inputs)\r\n",
        "\r\n",
        "      loss = outputs[0]\r\n",
        "      loss_train_total += loss.item()\r\n",
        "      loss.backward()\r\n",
        "\r\n",
        "      torch.nn.utils.clip_grad_norm_(model.parameters(), 1.0)\r\n",
        "  \r\n",
        "\r\n",
        "      optimizer.step()\r\n",
        "      schduler.step()\r\n",
        "\r\n",
        "      progress_bar.set_postfix({'training_loss':'{:.3f}'.format(loss.item()/len(batch))})\r\n",
        "    torch.save(model.state_dict(),f'Models/BERT_ft_epoch{epoch}.model')\r\n",
        "\r\n",
        "    tqdm.write('\\nEpoch {epoch}')\r\n",
        "\r\n",
        "    loss_train_avg = loss_train_total/len(dataloader)\r\n",
        "    tqdm.write(f'Training loss:{loss_train_avg}')\r\n",
        "\r\n",
        "    val_loss.predictions, true_vals = evaluate(dataloader_val)\r\n",
        "    val_f1 = f1_score_func(predictions.true_vals)\r\n",
        "    tqdm.write(f'Validation loss:{val_loss}')\r\n",
        "    tqdm.write(f'F1 score (weighted):{val_f1}')\r\n"
      ],
      "execution_count": 1,
      "outputs": [
        {
          "output_type": "error",
          "ename": "NameError",
          "evalue": "ignored",
          "traceback": [
            "\u001b[0;31m---------------------------------------------------------------------------\u001b[0m",
            "\u001b[0;31mNameError\u001b[0m                                 Traceback (most recent call last)",
            "\u001b[0;32m<ipython-input-1-60ea3681a0a7>\u001b[0m in \u001b[0;36m<module>\u001b[0;34m()\u001b[0m\n\u001b[0;32m----> 1\u001b[0;31m \u001b[0;32mfor\u001b[0m \u001b[0mepoch\u001b[0m \u001b[0;32min\u001b[0m \u001b[0mtqdm\u001b[0m\u001b[0;34m(\u001b[0m\u001b[0mrange\u001b[0m\u001b[0;34m(\u001b[0m\u001b[0;36m1\u001b[0m\u001b[0;34m,\u001b[0m \u001b[0mepochs\u001b[0m\u001b[0;34m+\u001b[0m\u001b[0;36m1\u001b[0m\u001b[0;34m)\u001b[0m\u001b[0;34m)\u001b[0m\u001b[0;34m:\u001b[0m\u001b[0;34m\u001b[0m\u001b[0;34m\u001b[0m\u001b[0m\n\u001b[0m\u001b[1;32m      2\u001b[0m     \u001b[0mmodel\u001b[0m\u001b[0;34m.\u001b[0m\u001b[0mtrain\u001b[0m\u001b[0;34m(\u001b[0m\u001b[0;34m)\u001b[0m\u001b[0;34m\u001b[0m\u001b[0;34m\u001b[0m\u001b[0m\n\u001b[1;32m      3\u001b[0m \u001b[0;34m\u001b[0m\u001b[0m\n\u001b[1;32m      4\u001b[0m     \u001b[0mloss_train_total\u001b[0m \u001b[0;34m=\u001b[0m \u001b[0;36m0\u001b[0m\u001b[0;34m\u001b[0m\u001b[0;34m\u001b[0m\u001b[0m\n\u001b[1;32m      5\u001b[0m \u001b[0;34m\u001b[0m\u001b[0m\n",
            "\u001b[0;31mNameError\u001b[0m: name 'tqdm' is not defined"
          ]
        }
      ]
    },
    {
      "cell_type": "code",
      "metadata": {
        "id": "PJdMnjfvN_jQ"
      },
      "source": [
        "model = BertForSequenceClassification.from_pretrained(\"bert-base-uncased\",\r\n",
        "                                                      num_labels=len(label_dict),\r\n",
        "                                                      output_attentions=False,\r\n",
        "                                                      output_hidden_states=False)"
      ],
      "execution_count": null,
      "outputs": []
    },
    {
      "cell_type": "code",
      "metadata": {
        "id": "mDLtPjc6OA--"
      },
      "source": [
        "model.to(device)\r\n",
        "pass"
      ],
      "execution_count": null,
      "outputs": []
    },
    {
      "cell_type": "code",
      "metadata": {
        "id": "f5-uRClUOCtx"
      },
      "source": [
        "model.load_state_dict(\r\n",
        "    torch.load('finetuned_bert_epoch_1_gpu_trained.model',\r\n",
        "               map_location = torch.device('cpu'))\r\n",
        ")"
      ],
      "execution_count": null,
      "outputs": []
    },
    {
      "cell_type": "code",
      "metadata": {
        "id": "TGRC0dTzOSnU"
      },
      "source": [
        "_,predictions, true_vals = evaluate(dataloader_val)\r\n",
        "accuracy_per_class(predictions, true_vals)"
      ],
      "execution_count": null,
      "outputs": []
    }
  ]
}