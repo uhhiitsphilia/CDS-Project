{
 "cells": [
  {
   "cell_type": "code",
   "execution_count": 1,
   "metadata": {
    "ExecuteTime": {
     "end_time": "2020-11-14T01:12:14.121153Z",
     "start_time": "2020-11-14T01:12:09.901895Z"
    }
   },
   "outputs": [],
   "source": [
    "import re\n",
    "import matplotlib.pyplot as plt\n",
    "import string\n",
    "from nltk.corpus import stopwords\n",
    "import nltk\n",
    "from nltk.corpus import wordnet\n",
    "from nltk.stem import WordNetLemmatizer\n",
    "from nltk.tokenize.treebank import TreebankWordDetokenizer\n",
    "from collections import Counter\n",
    "from wordcloud import WordCloud\n",
    "from nltk.corpus import stopwords\n",
    "import nltk\n",
    "from gensim.utils import simple_preprocess\n",
    "from nltk.corpus import stopwords\n",
    "import gensim\n",
    "from sklearn.model_selection import train_test_split\n",
    "import spacy\n",
    "import pickle\n",
    "import warnings\n",
    "warnings.filterwarnings('ignore')\n",
    "import seaborn as sns\n",
    "from sklearn.metrics import confusion_matrix\n",
    "import matplotlib.pyplot as plt \n",
    "import tensorflow as tf\n",
    "import keras\n",
    "import numpy as np\n",
    "import pandas as pd"
   ]
  },
  {
   "cell_type": "code",
   "execution_count": 2,
   "metadata": {
    "ExecuteTime": {
     "end_time": "2020-11-14T01:13:31.001037Z",
     "start_time": "2020-11-14T01:13:30.473001Z"
    }
   },
   "outputs": [],
   "source": [
    "train = pd.read_csv('IMDB Dataset.csv')"
   ]
  },
  {
   "cell_type": "code",
   "execution_count": 15,
   "metadata": {
    "ExecuteTime": {
     "end_time": "2020-11-14T01:19:08.566317Z",
     "start_time": "2020-11-14T01:19:08.559336Z"
    }
   },
   "outputs": [
    {
     "data": {
      "text/html": [
       "<div>\n",
       "<style scoped>\n",
       "    .dataframe tbody tr th:only-of-type {\n",
       "        vertical-align: middle;\n",
       "    }\n",
       "\n",
       "    .dataframe tbody tr th {\n",
       "        vertical-align: top;\n",
       "    }\n",
       "\n",
       "    .dataframe thead th {\n",
       "        text-align: right;\n",
       "    }\n",
       "</style>\n",
       "<table border=\"1\" class=\"dataframe\">\n",
       "  <thead>\n",
       "    <tr style=\"text-align: right;\">\n",
       "      <th></th>\n",
       "      <th>review</th>\n",
       "      <th>sentiment</th>\n",
       "    </tr>\n",
       "  </thead>\n",
       "  <tbody>\n",
       "    <tr>\n",
       "      <th>0</th>\n",
       "      <td>One of the other reviewers has mentioned that ...</td>\n",
       "      <td>Positive</td>\n",
       "    </tr>\n",
       "    <tr>\n",
       "      <th>1</th>\n",
       "      <td>A wonderful little production. &lt;br /&gt;&lt;br /&gt;The...</td>\n",
       "      <td>Positive</td>\n",
       "    </tr>\n",
       "    <tr>\n",
       "      <th>2</th>\n",
       "      <td>I thought this was a wonderful way to spend ti...</td>\n",
       "      <td>Positive</td>\n",
       "    </tr>\n",
       "    <tr>\n",
       "      <th>3</th>\n",
       "      <td>Basically there's a family where a little boy ...</td>\n",
       "      <td>Negative</td>\n",
       "    </tr>\n",
       "    <tr>\n",
       "      <th>4</th>\n",
       "      <td>Petter Mattei's \"Love in the Time of Money\" is...</td>\n",
       "      <td>Positive</td>\n",
       "    </tr>\n",
       "  </tbody>\n",
       "</table>\n",
       "</div>"
      ],
      "text/plain": [
       "                                              review sentiment\n",
       "0  One of the other reviewers has mentioned that ...  Positive\n",
       "1  A wonderful little production. <br /><br />The...  Positive\n",
       "2  I thought this was a wonderful way to spend ti...  Positive\n",
       "3  Basically there's a family where a little boy ...  Negative\n",
       "4  Petter Mattei's \"Love in the Time of Money\" is...  Positive"
      ]
     },
     "execution_count": 15,
     "metadata": {},
     "output_type": "execute_result"
    }
   ],
   "source": [
    "train.head()"
   ]
  },
  {
   "cell_type": "code",
   "execution_count": 8,
   "metadata": {
    "ExecuteTime": {
     "end_time": "2020-11-14T01:14:44.298315Z",
     "start_time": "2020-11-14T01:14:44.290338Z"
    }
   },
   "outputs": [
    {
     "data": {
      "text/plain": [
       "array(['Positive', 'Negative'], dtype=object)"
      ]
     },
     "execution_count": 8,
     "metadata": {},
     "output_type": "execute_result"
    }
   ],
   "source": [
    "train['sentiment'].unique()"
   ]
  },
  {
   "cell_type": "code",
   "execution_count": 9,
   "metadata": {
    "ExecuteTime": {
     "end_time": "2020-11-14T01:14:52.950875Z",
     "start_time": "2020-11-14T01:14:52.766146Z"
    }
   },
   "outputs": [
    {
     "data": {
      "text/html": [
       "<div>\n",
       "<style scoped>\n",
       "    .dataframe tbody tr th:only-of-type {\n",
       "        vertical-align: middle;\n",
       "    }\n",
       "\n",
       "    .dataframe tbody tr th {\n",
       "        vertical-align: top;\n",
       "    }\n",
       "\n",
       "    .dataframe thead th {\n",
       "        text-align: right;\n",
       "    }\n",
       "</style>\n",
       "<table border=\"1\" class=\"dataframe\">\n",
       "  <thead>\n",
       "    <tr style=\"text-align: right;\">\n",
       "      <th></th>\n",
       "      <th>review</th>\n",
       "    </tr>\n",
       "    <tr>\n",
       "      <th>sentiment</th>\n",
       "      <th></th>\n",
       "    </tr>\n",
       "  </thead>\n",
       "  <tbody>\n",
       "    <tr>\n",
       "      <th>Negative</th>\n",
       "      <td>24698</td>\n",
       "    </tr>\n",
       "    <tr>\n",
       "      <th>Positive</th>\n",
       "      <td>24884</td>\n",
       "    </tr>\n",
       "  </tbody>\n",
       "</table>\n",
       "</div>"
      ],
      "text/plain": [
       "           review\n",
       "sentiment        \n",
       "Negative    24698\n",
       "Positive    24884"
      ]
     },
     "execution_count": 9,
     "metadata": {},
     "output_type": "execute_result"
    }
   ],
   "source": [
    "train.groupby('sentiment').nunique()"
   ]
  },
  {
   "cell_type": "markdown",
   "metadata": {
    "ExecuteTime": {
     "end_time": "2020-11-14T01:15:42.819129Z",
     "start_time": "2020-11-14T01:15:42.804202Z"
    }
   },
   "source": [
    "# The next steps about data cleaning will be:\n",
    "Remove URLs from the tweets <br>\n",
    "Remove emails <br>\n",
    "Tokenize text <br>\n",
    "Remove new lines characters <br>\n",
    "Remove distracting single quotes <br>\n",
    "\n",
    "Remove all punctuation signs <br>\n",
    "Lowercase all text <br>\n",
    "Detokenize text <br>\n",
    "Convert list of texts to Numpy array <br>"
   ]
  },
  {
   "cell_type": "code",
   "execution_count": 12,
   "metadata": {
    "ExecuteTime": {
     "end_time": "2020-11-14T01:17:39.839385Z",
     "start_time": "2020-11-14T01:17:39.835360Z"
    }
   },
   "outputs": [],
   "source": [
    "def depure_data(data):\n",
    "    \n",
    "    #Removing URLs with a regular expression\n",
    "    url_pattern = re.compile(r'https?://\\S+|www\\.\\S+')\n",
    "    data = url_pattern.sub(r'', data)\n",
    "\n",
    "    # Remove Emails\n",
    "    data = re.sub('\\S*@\\S*\\s?', '', data)\n",
    "\n",
    "    # Remove new line characters\n",
    "    data = re.sub('\\s+', ' ', data)\n",
    "\n",
    "    # Remove distracting single quotes\n",
    "    data = re.sub(\"\\'\", \"\", data)\n",
    "        \n",
    "    return data"
   ]
  },
  {
   "cell_type": "code",
   "execution_count": 16,
   "metadata": {
    "ExecuteTime": {
     "end_time": "2020-11-14T01:19:43.162538Z",
     "start_time": "2020-11-14T01:19:36.073434Z"
    }
   },
   "outputs": [],
   "source": [
    "temp = []\n",
    "#Splitting pd.Series to list\n",
    "data_to_list = train['review'].values.tolist()\n",
    "for i in range(len(data_to_list)):\n",
    "    temp.append(depure_data(data_to_list[i]))\n",
    "#list(temp[:5]) # show first five rows"
   ]
  },
  {
   "cell_type": "markdown",
   "metadata": {
    "ExecuteTime": {
     "end_time": "2020-11-14T01:22:19.866041Z",
     "start_time": "2020-11-14T01:22:19.863050Z"
    }
   },
   "source": [
    "## Break up each tweet into individual words and remove punctuation"
   ]
  },
  {
   "cell_type": "code",
   "execution_count": 18,
   "metadata": {
    "ExecuteTime": {
     "end_time": "2020-11-14T01:21:51.656418Z",
     "start_time": "2020-11-14T01:21:27.231608Z"
    }
   },
   "outputs": [
    {
     "name": "stdout",
     "output_type": "stream",
     "text": [
      "[['one', 'of', 'the', 'other', 'reviewers', 'has', 'mentioned', 'that', 'after', 'watching', 'just', 'oz', 'episode', 'youll', 'be', 'hooked', 'they', 'are', 'right', 'as', 'this', 'is', 'exactly', 'what', 'happened', 'with', 'me', 'br', 'br', 'the', 'first', 'thing', 'that', 'struck', 'me', 'about', 'oz', 'was', 'its', 'brutality', 'and', 'unflinching', 'scenes', 'of', 'violence', 'which', 'set', 'in', 'right', 'from', 'the', 'word', 'go', 'trust', 'me', 'this', 'is', 'not', 'show', 'for', 'the', 'faint', 'hearted', 'or', 'timid', 'this', 'show', 'pulls', 'no', 'punches', 'with', 'regards', 'to', 'drugs', 'sex', 'or', 'violence', 'its', 'is', 'hardcore', 'in', 'the', 'classic', 'use', 'of', 'the', 'word', 'br', 'br', 'it', 'is', 'called', 'oz', 'as', 'that', 'is', 'the', 'nickname', 'given', 'to', 'the', 'oswald', 'maximum', 'security', 'state', 'penitentary', 'it', 'focuses', 'mainly', 'on', 'emerald', 'city', 'an', 'experimental', 'section', 'of', 'the', 'prison', 'where', 'all', 'the', 'cells', 'have', 'glass', 'fronts', 'and', 'face', 'inwards', 'so', 'privacy', 'is', 'not', 'high', 'on', 'the', 'agenda', 'em', 'city', 'is', 'home', 'to', 'many', 'aryans', 'muslims', 'gangstas', 'latinos', 'christians', 'italians', 'irish', 'and', 'more', 'so', 'scuffles', 'death', 'stares', 'dodgy', 'dealings', 'and', 'shady', 'agreements', 'are', 'never', 'far', 'away', 'br', 'br', 'would', 'say', 'the', 'main', 'appeal', 'of', 'the', 'show', 'is', 'due', 'to', 'the', 'fact', 'that', 'it', 'goes', 'where', 'other', 'shows', 'wouldnt', 'dare', 'forget', 'pretty', 'pictures', 'painted', 'for', 'mainstream', 'audiences', 'forget', 'charm', 'forget', 'romance', 'oz', 'doesnt', 'mess', 'around', 'the', 'first', 'episode', 'ever', 'saw', 'struck', 'me', 'as', 'so', 'nasty', 'it', 'was', 'surreal', 'couldnt', 'say', 'was', 'ready', 'for', 'it', 'but', 'as', 'watched', 'more', 'developed', 'taste', 'for', 'oz', 'and', 'got', 'accustomed', 'to', 'the', 'high', 'levels', 'of', 'graphic', 'violence', 'not', 'just', 'violence', 'but', 'injustice', 'crooked', 'guards', 'wholl', 'be', 'sold', 'out', 'for', 'nickel', 'inmates', 'wholl', 'kill', 'on', 'order', 'and', 'get', 'away', 'with', 'it', 'well', 'mannered', 'middle', 'class', 'inmates', 'being', 'turned', 'into', 'prison', 'bitches', 'due', 'to', 'their', 'lack', 'of', 'street', 'skills', 'or', 'prison', 'experience', 'watching', 'oz', 'you', 'may', 'become', 'comfortable', 'with', 'what', 'is', 'uncomfortable', 'viewing', 'thats', 'if', 'you', 'can', 'get', 'in', 'touch', 'with', 'your', 'darker', 'side']]\n"
     ]
    }
   ],
   "source": [
    "def sent_to_words(sentences):\n",
    "    for sentence in sentences:\n",
    "        yield(gensim.utils.simple_preprocess(str(sentence), deacc=True))  # deacc=True removes punctuations\n",
    "        \n",
    "\n",
    "data_words = list(sent_to_words(temp))\n",
    "\n",
    "print(data_words[:1])"
   ]
  },
  {
   "cell_type": "code",
   "execution_count": 20,
   "metadata": {
    "ExecuteTime": {
     "end_time": "2020-11-14T01:23:06.119727Z",
     "start_time": "2020-11-14T01:23:06.114740Z"
    }
   },
   "outputs": [
    {
     "data": {
      "text/plain": [
       "50000"
      ]
     },
     "execution_count": 20,
     "metadata": {},
     "output_type": "execute_result"
    }
   ],
   "source": [
    "len(data_words) #data_words contain 50,000 list, with each list containing one tweet separated into individual words"
   ]
  },
  {
   "cell_type": "code",
   "execution_count": 21,
   "metadata": {
    "ExecuteTime": {
     "end_time": "2020-11-14T01:24:15.429958Z",
     "start_time": "2020-11-14T01:24:15.426473Z"
    }
   },
   "outputs": [],
   "source": [
    "def detokenize(text):\n",
    "    return TreebankWordDetokenizer().detokenize(text)"
   ]
  },
  {
   "cell_type": "code",
   "execution_count": 23,
   "metadata": {
    "ExecuteTime": {
     "end_time": "2020-11-14T01:25:18.568314Z",
     "start_time": "2020-11-14T01:24:48.628781Z"
    }
   },
   "outputs": [
    {
     "name": "stdout",
     "output_type": "stream",
     "text": [
      "['one of the other reviewers has mentioned that after watching just oz episode youll be hooked they are right as this is exactly what happened with me br br the first thing that struck me about oz was its brutality and unflinching scenes of violence which set in right from the word go trust me this is not show for the faint hearted or timid this show pulls no punches with regards to drugs sex or violence its is hardcore in the classic use of the word br br it is called oz as that is the nickname given to the oswald maximum security state penitentary it focuses mainly on emerald city an experimental section of the prison where all the cells have glass fronts and face inwards so privacy is not high on the agenda em city is home to many aryans muslims gangstas latinos christians italians irish and more so scuffles death stares dodgy dealings and shady agreements are never far away br br would say the main appeal of the show is due to the fact that it goes where other shows wouldnt dare forget pretty pictures painted for mainstream audiences forget charm forget romance oz doesnt mess around the first episode ever saw struck me as so nasty it was surreal couldnt say was ready for it but as watched more developed taste for oz and got accustomed to the high levels of graphic violence not just violence but injustice crooked guards wholl be sold out for nickel inmates wholl kill on order and get away with it well mannered middle class inmates being turned into prison bitches due to their lack of street skills or prison experience watching oz you may become comfortable with what is uncomfortable viewing thats if you can get in touch with your darker side', 'wonderful little production br br the filming technique is very unassuming very old time bbc fashion and gives comforting and sometimes discomforting sense of realism to the entire piece br br the actors are extremely well chosen michael sheen not only has got all the polari but he has all the voices down pat too you can truly see the seamless editing guided by the references to williams diary entries not only is it well worth the watching but it is terrificly written and performed piece masterful production about one of the great masters of comedy and his life br br the realism really comes home with the little things the fantasy of the guard which rather than use the traditional dream techniques remains solid then disappears it plays on our knowledge and our senses particularly with the scenes concerning orton and halliwell and the sets particularly of their flat with halliwells murals decorating every surface are terribly well done', 'thought this was wonderful way to spend time on too hot summer weekend sitting in the air conditioned theater and watching light hearted comedy the plot is simplistic but the dialogue is witty and the characters are likable even the well bread suspected serial killer while some may be disappointed when they realize this is not match point risk addiction thought it was proof that woody allen is still fully in control of the style many of us have grown to love br br this was the most id laughed at one of woodys comedies in years dare say decade while ive never been impressed with scarlet johanson in this she managed to tone down her sexy image and jumped right into average but spirited young woman br br this may not be the crown jewel of his career but it was wittier than devil wears prada and more interesting than superman great comedy to go see with friends', 'basically theres family where little boy jake thinks theres zombie in his closet his parents are fighting all the time br br this movie is slower than soap opera and suddenly jake decides to become rambo and kill the zombie br br ok first of all when youre going to make film you must decide if its thriller or drama as drama the movie is watchable parents are divorcing arguing like in real life and then we have jake with his closet which totally ruins all the film expected to see boogeyman similar movie and instead watched drama with some meaningless thriller spots br br out of just for the well playing parents descent dialogs as for the shots with jake just ignore them', 'petter matteis love in the time of money is visually stunning film to watch mr mattei offers us vivid portrait about human relations this is movie that seems to be telling us what money power and success do to people in the different situations we encounter br br this being variation on the arthur schnitzlers play about the same theme the director transfers the action to the present time new york where all these different characters meet and connect each one is connected in one way or another to the next person but no one seems to know the previous point of contact stylishly the film has sophisticated luxurious look we are taken to see how these people live and the world they live in their own habitat br br the only thing one gets out of all these souls in the picture is the different stages of loneliness each one inhabits big city is not exactly the best place in which human relations find sincere fulfillment as one discerns is the case with most of the people we encounter br br the acting is good under mr matteis direction steve buscemi rosario dawson carol kane michael imperioli adrian grenier and the rest of the talented cast make these characters come alive br br we wish mr mattei good luck and await anxiously for his next work']\n"
     ]
    }
   ],
   "source": [
    "data = []\n",
    "for i in range(len(data_words)):\n",
    "    data.append(detokenize(data_words[i]))\n",
    "print(data[:5])"
   ]
  },
  {
   "cell_type": "code",
   "execution_count": 62,
   "metadata": {
    "ExecuteTime": {
     "end_time": "2020-11-14T01:35:22.850008Z",
     "start_time": "2020-11-14T01:35:22.833086Z"
    }
   },
   "outputs": [
    {
     "ename": "MemoryError",
     "evalue": "Unable to allocate 2.44 GiB for an array with shape (50000,) and data type <U13081",
     "output_type": "error",
     "traceback": [
      "\u001b[1;31m---------------------------------------------------------------------------\u001b[0m",
      "\u001b[1;31mMemoryError\u001b[0m                               Traceback (most recent call last)",
      "\u001b[1;32m<ipython-input-62-751e83d16d8a>\u001b[0m in \u001b[0;36m<module>\u001b[1;34m\u001b[0m\n\u001b[1;32m----> 1\u001b[1;33m \u001b[0mdata\u001b[0m \u001b[1;33m=\u001b[0m \u001b[0mnp\u001b[0m\u001b[1;33m.\u001b[0m\u001b[0marray\u001b[0m\u001b[1;33m(\u001b[0m\u001b[0mdata\u001b[0m\u001b[1;33m)\u001b[0m\u001b[1;33m\u001b[0m\u001b[1;33m\u001b[0m\u001b[0m\n\u001b[0m",
      "\u001b[1;31mMemoryError\u001b[0m: Unable to allocate 2.44 GiB for an array with shape (50000,) and data type <U13081"
     ]
    }
   ],
   "source": [
    "data = np.array(data)"
   ]
  },
  {
   "cell_type": "code",
   "execution_count": 61,
   "metadata": {
    "ExecuteTime": {
     "end_time": "2020-11-14T01:35:19.962447Z",
     "start_time": "2020-11-14T01:35:19.932347Z"
    }
   },
   "outputs": [],
   "source": [
    "labels = np.array(train['sentiment'])\n",
    "y = []\n",
    "for i in range(len(labels)):\n",
    "    if labels[i] == 'Negative':\n",
    "        y.append(0)\n",
    "    if labels[i] == 'Positive':\n",
    "        y.append(1)\n",
    "y = np.array(y)\n",
    "labels = tf.keras.utils.to_categorical(y, 2, dtype=\"float32\")\n",
    "del y"
   ]
  },
  {
   "cell_type": "code",
   "execution_count": 60,
   "metadata": {
    "ExecuteTime": {
     "end_time": "2020-11-14T01:35:02.250246Z",
     "start_time": "2020-11-14T01:35:02.246269Z"
    }
   },
   "outputs": [
    {
     "data": {
      "text/plain": [
       "50000"
      ]
     },
     "execution_count": 60,
     "metadata": {},
     "output_type": "execute_result"
    }
   ],
   "source": [
    "len(labels)"
   ]
  },
  {
   "cell_type": "markdown",
   "metadata": {},
   "source": [
    "## Data sequencing and splitting"
   ]
  },
  {
   "cell_type": "code",
   "execution_count": 64,
   "metadata": {
    "ExecuteTime": {
     "end_time": "2020-11-14T01:38:50.589173Z",
     "start_time": "2020-11-14T01:38:50.583191Z"
    }
   },
   "outputs": [],
   "source": [
    "from keras.models import Sequential\n",
    "from keras import layers\n",
    "from keras.optimizers import RMSprop,Adam\n",
    "from keras.preprocessing.text import Tokenizer\n",
    "from keras.preprocessing.sequence import pad_sequences\n",
    "from keras import regularizers\n",
    "from keras import backend as K\n",
    "from keras.callbacks import ModelCheckpoint"
   ]
  },
  {
   "cell_type": "code",
   "execution_count": 157,
   "metadata": {
    "ExecuteTime": {
     "end_time": "2020-11-14T07:05:27.610429Z",
     "start_time": "2020-11-14T07:05:14.118465Z"
    }
   },
   "outputs": [],
   "source": [
    "max_words = 5000\n",
    "max_len = 200\n",
    "\n",
    "tokenizer = Tokenizer(num_words=max_words)\n",
    "tokenizer.fit_on_texts(data)\n",
    "sequences = tokenizer.texts_to_sequences(data)\n",
    "tweets = pad_sequences(sequences, maxlen=max_len)"
   ]
  },
  {
   "cell_type": "markdown",
   "metadata": {},
   "source": [
    "## Splitting the data"
   ]
  },
  {
   "cell_type": "code",
   "execution_count": 165,
   "metadata": {
    "ExecuteTime": {
     "end_time": "2020-11-14T07:37:07.914475Z",
     "start_time": "2020-11-14T07:37:07.872585Z"
    }
   },
   "outputs": [
    {
     "name": "stdout",
     "output_type": "stream",
     "text": [
      "25000 25000 25000 25000\n"
     ]
    }
   ],
   "source": [
    "X_train, X_test, y_train, y_test = train_test_split(tweets,labels, random_state=0, test_size = 0.5)\n",
    "print (len(X_train),len(X_test),len(y_train),len(y_test))"
   ]
  },
  {
   "cell_type": "code",
   "execution_count": 146,
   "metadata": {
    "ExecuteTime": {
     "end_time": "2020-11-14T06:32:27.857687Z",
     "start_time": "2020-11-14T06:28:45.971967Z"
    }
   },
   "outputs": [
    {
     "name": "stdout",
     "output_type": "stream",
     "text": [
      "WARNING:tensorflow:`period` argument is deprecated. Please use `save_freq` to specify the frequency in number of batches seen.\n",
      "Epoch 1/20\n",
      "1172/1172 [==============================] - ETA: 0s - loss: 0.5167 - accuracy: 0.7414\n",
      "Epoch 00001: val_accuracy improved from -inf to 0.79272, saving model to best_model1.hdf5\n",
      "1172/1172 [==============================] - 11s 10ms/step - loss: 0.5167 - accuracy: 0.7414 - val_loss: 0.4438 - val_accuracy: 0.7927\n",
      "Epoch 2/20\n",
      "1171/1172 [============================>.] - ETA: 0s - loss: 0.4318 - accuracy: 0.7998\n",
      "Epoch 00002: val_accuracy improved from 0.79272 to 0.80096, saving model to best_model1.hdf5\n",
      "1172/1172 [==============================] - 11s 9ms/step - loss: 0.4317 - accuracy: 0.7998 - val_loss: 0.4299 - val_accuracy: 0.8010\n",
      "Epoch 3/20\n",
      "1169/1172 [============================>.] - ETA: 0s - loss: 0.4214 - accuracy: 0.8037\n",
      "Epoch 00003: val_accuracy did not improve from 0.80096\n",
      "1172/1172 [==============================] - 11s 9ms/step - loss: 0.4214 - accuracy: 0.8036 - val_loss: 0.4304 - val_accuracy: 0.8004\n",
      "Epoch 4/20\n",
      "1171/1172 [============================>.] - ETA: 0s - loss: 0.4161 - accuracy: 0.8104\n",
      "Epoch 00004: val_accuracy did not improve from 0.80096\n",
      "1172/1172 [==============================] - 11s 9ms/step - loss: 0.4161 - accuracy: 0.8104 - val_loss: 0.4267 - val_accuracy: 0.8004\n",
      "Epoch 5/20\n",
      "1172/1172 [==============================] - ETA: 0s - loss: 0.4132 - accuracy: 0.8117\n",
      "Epoch 00005: val_accuracy improved from 0.80096 to 0.80200, saving model to best_model1.hdf5\n",
      "1172/1172 [==============================] - 11s 9ms/step - loss: 0.4132 - accuracy: 0.8117 - val_loss: 0.4268 - val_accuracy: 0.8020\n",
      "Epoch 6/20\n",
      "1171/1172 [============================>.] - ETA: 0s - loss: 0.4101 - accuracy: 0.8130\n",
      "Epoch 00006: val_accuracy did not improve from 0.80200\n",
      "1172/1172 [==============================] - 11s 9ms/step - loss: 0.4101 - accuracy: 0.8130 - val_loss: 0.4307 - val_accuracy: 0.8014\n",
      "Epoch 7/20\n",
      "1171/1172 [============================>.] - ETA: 0s - loss: 0.4094 - accuracy: 0.8131\n",
      "Epoch 00007: val_accuracy did not improve from 0.80200\n",
      "1172/1172 [==============================] - 11s 9ms/step - loss: 0.4095 - accuracy: 0.8131 - val_loss: 0.4287 - val_accuracy: 0.8006\n",
      "Epoch 8/20\n",
      "1168/1172 [============================>.] - ETA: 0s - loss: 0.4046 - accuracy: 0.8175\n",
      "Epoch 00008: val_accuracy did not improve from 0.80200\n",
      "1172/1172 [==============================] - 11s 9ms/step - loss: 0.4047 - accuracy: 0.8175 - val_loss: 0.4292 - val_accuracy: 0.7994\n",
      "Epoch 9/20\n",
      "1167/1172 [============================>.] - ETA: 0s - loss: 0.4084 - accuracy: 0.8140\n",
      "Epoch 00009: val_accuracy did not improve from 0.80200\n",
      "1172/1172 [==============================] - 11s 9ms/step - loss: 0.4082 - accuracy: 0.8139 - val_loss: 0.4319 - val_accuracy: 0.8001\n",
      "Epoch 10/20\n",
      "1169/1172 [============================>.] - ETA: 0s - loss: 0.4044 - accuracy: 0.8169\n",
      "Epoch 00010: val_accuracy did not improve from 0.80200\n",
      "1172/1172 [==============================] - 11s 9ms/step - loss: 0.4046 - accuracy: 0.8169 - val_loss: 0.4298 - val_accuracy: 0.8013\n",
      "Epoch 11/20\n",
      "1168/1172 [============================>.] - ETA: 0s - loss: 0.4033 - accuracy: 0.8178\n",
      "Epoch 00011: val_accuracy did not improve from 0.80200\n",
      "1172/1172 [==============================] - 11s 9ms/step - loss: 0.4033 - accuracy: 0.8178 - val_loss: 0.4377 - val_accuracy: 0.7997\n",
      "Epoch 12/20\n",
      "1170/1172 [============================>.] - ETA: 0s - loss: 0.4022 - accuracy: 0.8180\n",
      "Epoch 00012: val_accuracy did not improve from 0.80200\n",
      "1172/1172 [==============================] - 11s 9ms/step - loss: 0.4022 - accuracy: 0.8181 - val_loss: 0.4342 - val_accuracy: 0.8016\n",
      "Epoch 13/20\n",
      "1166/1172 [============================>.] - ETA: 0s - loss: 0.4002 - accuracy: 0.8178\n",
      "Epoch 00013: val_accuracy improved from 0.80200 to 0.80320, saving model to best_model1.hdf5\n",
      "1172/1172 [==============================] - 11s 9ms/step - loss: 0.4004 - accuracy: 0.8177 - val_loss: 0.4297 - val_accuracy: 0.8032\n",
      "Epoch 14/20\n",
      "1169/1172 [============================>.] - ETA: 0s - loss: 0.4008 - accuracy: 0.8194\n",
      "Epoch 00014: val_accuracy did not improve from 0.80320\n",
      "1172/1172 [==============================] - 11s 9ms/step - loss: 0.4007 - accuracy: 0.8193 - val_loss: 0.4284 - val_accuracy: 0.8007\n",
      "Epoch 15/20\n",
      "1169/1172 [============================>.] - ETA: 0s - loss: 0.3986 - accuracy: 0.8205\n",
      "Epoch 00015: val_accuracy improved from 0.80320 to 0.80456, saving model to best_model1.hdf5\n",
      "1172/1172 [==============================] - 11s 10ms/step - loss: 0.3984 - accuracy: 0.8206 - val_loss: 0.4306 - val_accuracy: 0.8046\n",
      "Epoch 16/20\n",
      "1169/1172 [============================>.] - ETA: 0s - loss: 0.3965 - accuracy: 0.8197\n",
      "Epoch 00016: val_accuracy did not improve from 0.80456\n",
      "1172/1172 [==============================] - 11s 10ms/step - loss: 0.3967 - accuracy: 0.8197 - val_loss: 0.4364 - val_accuracy: 0.8005\n",
      "Epoch 17/20\n",
      "1169/1172 [============================>.] - ETA: 0s - loss: 0.3937 - accuracy: 0.8216\n",
      "Epoch 00017: val_accuracy did not improve from 0.80456\n",
      "1172/1172 [==============================] - 11s 9ms/step - loss: 0.3935 - accuracy: 0.8216 - val_loss: 0.4326 - val_accuracy: 0.8005\n",
      "Epoch 18/20\n",
      "1167/1172 [============================>.] - ETA: 0s - loss: 0.3962 - accuracy: 0.8214\n",
      "Epoch 00018: val_accuracy did not improve from 0.80456\n",
      "1172/1172 [==============================] - 11s 9ms/step - loss: 0.3963 - accuracy: 0.8212 - val_loss: 0.4259 - val_accuracy: 0.8017\n",
      "Epoch 19/20\n",
      "1169/1172 [============================>.] - ETA: 0s - loss: 0.3923 - accuracy: 0.8234\n",
      "Epoch 00019: val_accuracy did not improve from 0.80456\n",
      "1172/1172 [==============================] - 11s 9ms/step - loss: 0.3925 - accuracy: 0.8233 - val_loss: 0.4238 - val_accuracy: 0.8002\n",
      "Epoch 20/20\n",
      "1168/1172 [============================>.] - ETA: 0s - loss: 0.3915 - accuracy: 0.8215\n",
      "Epoch 00020: val_accuracy improved from 0.80456 to 0.80720, saving model to best_model1.hdf5\n",
      "1172/1172 [==============================] - 11s 10ms/step - loss: 0.3918 - accuracy: 0.8214 - val_loss: 0.4161 - val_accuracy: 0.8072\n"
     ]
    }
   ],
   "source": [
    "model1 = Sequential()\n",
    "model1.add(layers.Embedding(max_words, 20))\n",
    "model1.add(layers.LSTM(15,dropout=0.6))\n",
    "model1.add(layers.Dense(2,activation='sigmoid'))\n",
    "\n",
    "model1.compile(optimizer='rmsprop',loss='binary_crossentropy', metrics=['accuracy'])\n",
    "#Implementing model checkpoins to save the best metric and do not lose it on training.\n",
    "checkpoint1 = ModelCheckpoint(\"best_model1.hdf5\", monitor='val_accuracy', verbose=1,save_best_only=True, mode='auto', period=1,save_weights_only=False)\n",
    "history = model1.fit(X_train, y_train, epochs=20,validation_data=(X_test, y_test),callbacks=[checkpoint1])"
   ]
  },
  {
   "cell_type": "code",
   "execution_count": 166,
   "metadata": {
    "ExecuteTime": {
     "end_time": "2020-11-14T07:53:18.874719Z",
     "start_time": "2020-11-14T07:37:45.361266Z"
    }
   },
   "outputs": [
    {
     "name": "stdout",
     "output_type": "stream",
     "text": [
      "WARNING:tensorflow:`period` argument is deprecated. Please use `save_freq` to specify the frequency in number of batches seen.\n",
      "Epoch 1/15\n",
      "782/782 [==============================] - ETA: 0s - loss: 0.4679 - accuracy: 0.7754\n",
      "Epoch 00001: val_accuracy improved from -inf to 0.85604, saving model to best_model2.hdf5\n",
      "782/782 [==============================] - 61s 78ms/step - loss: 0.4679 - accuracy: 0.7754 - val_loss: 0.3516 - val_accuracy: 0.8560\n",
      "Epoch 2/15\n",
      "782/782 [==============================] - ETA: 0s - loss: 0.3076 - accuracy: 0.8746\n",
      "Epoch 00002: val_accuracy improved from 0.85604 to 0.87516, saving model to best_model2.hdf5\n",
      "782/782 [==============================] - 59s 76ms/step - loss: 0.3076 - accuracy: 0.8746 - val_loss: 0.3018 - val_accuracy: 0.8752\n",
      "Epoch 3/15\n",
      "782/782 [==============================] - ETA: 0s - loss: 0.2689 - accuracy: 0.8927 ETA: 0s - los - ETA: 0s - loss: 0.2691 - accuracy: 0.\n",
      "Epoch 00003: val_accuracy improved from 0.87516 to 0.87636, saving model to best_model2.hdf5\n",
      "782/782 [==============================] - 60s 77ms/step - loss: 0.2689 - accuracy: 0.8927 - val_loss: 0.3089 - val_accuracy: 0.8764\n",
      "Epoch 4/15\n",
      "782/782 [==============================] - ETA: 0s - loss: 0.2534 - accuracy: 0.8980\n",
      "Epoch 00004: val_accuracy did not improve from 0.87636\n",
      "782/782 [==============================] - 60s 76ms/step - loss: 0.2534 - accuracy: 0.8980 - val_loss: 0.3078 - val_accuracy: 0.8723\n",
      "Epoch 5/15\n",
      "782/782 [==============================] - ETA: 0s - loss: 0.2415 - accuracy: 0.9047\n",
      "Epoch 00005: val_accuracy did not improve from 0.87636\n",
      "782/782 [==============================] - 59s 75ms/step - loss: 0.2415 - accuracy: 0.9047 - val_loss: 0.3183 - val_accuracy: 0.8730\n",
      "Epoch 6/15\n",
      "782/782 [==============================] - ETA: 0s - loss: 0.2259 - accuracy: 0.9095\n",
      "Epoch 00006: val_accuracy did not improve from 0.87636\n",
      "782/782 [==============================] - 60s 77ms/step - loss: 0.2259 - accuracy: 0.9095 - val_loss: 0.3134 - val_accuracy: 0.8751\n",
      "Epoch 7/15\n",
      "782/782 [==============================] - ETA: 0s - loss: 0.2225 - accuracy: 0.9121\n",
      "Epoch 00007: val_accuracy did not improve from 0.87636\n",
      "782/782 [==============================] - 60s 76ms/step - loss: 0.2225 - accuracy: 0.9121 - val_loss: 0.3143 - val_accuracy: 0.8733\n",
      "Epoch 8/15\n",
      "782/782 [==============================] - ETA: 0s - loss: 0.2111 - accuracy: 0.9156\n",
      "Epoch 00008: val_accuracy did not improve from 0.87636\n",
      "782/782 [==============================] - 61s 78ms/step - loss: 0.2111 - accuracy: 0.9156 - val_loss: 0.3091 - val_accuracy: 0.8730\n",
      "Epoch 9/15\n",
      "782/782 [==============================] - ETA: 0s - loss: 0.2079 - accuracy: 0.9186\n",
      "Epoch 00009: val_accuracy did not improve from 0.87636\n",
      "782/782 [==============================] - 60s 76ms/step - loss: 0.2079 - accuracy: 0.9186 - val_loss: 0.3387 - val_accuracy: 0.8726\n",
      "Epoch 10/15\n",
      "782/782 [==============================] - ETA: 0s - loss: 0.1956 - accuracy: 0.9213\n",
      "Epoch 00010: val_accuracy did not improve from 0.87636\n",
      "782/782 [==============================] - 63s 80ms/step - loss: 0.1956 - accuracy: 0.9213 - val_loss: 0.3251 - val_accuracy: 0.8758\n",
      "Epoch 11/15\n",
      "782/782 [==============================] - ETA: 0s - loss: 0.1910 - accuracy: 0.9255\n",
      "Epoch 00011: val_accuracy did not improve from 0.87636\n",
      "782/782 [==============================] - 66s 85ms/step - loss: 0.1910 - accuracy: 0.9255 - val_loss: 0.3228 - val_accuracy: 0.8762\n",
      "Epoch 12/15\n",
      "782/782 [==============================] - ETA: 0s - loss: 0.1822 - accuracy: 0.9280\n",
      "Epoch 00012: val_accuracy improved from 0.87636 to 0.87640, saving model to best_model2.hdf5\n",
      "782/782 [==============================] - 72s 92ms/step - loss: 0.1822 - accuracy: 0.9280 - val_loss: 0.3693 - val_accuracy: 0.8764\n",
      "Epoch 13/15\n",
      "782/782 [==============================] - ETA: 0s - loss: 0.1830 - accuracy: 0.9279\n",
      "Epoch 00013: val_accuracy did not improve from 0.87640\n",
      "782/782 [==============================] - 65s 84ms/step - loss: 0.1830 - accuracy: 0.9279 - val_loss: 0.3258 - val_accuracy: 0.8743\n",
      "Epoch 14/15\n",
      "782/782 [==============================] - ETA: 0s - loss: 0.1715 - accuracy: 0.9332 ETA: \n",
      "Epoch 00014: val_accuracy did not improve from 0.87640\n",
      "782/782 [==============================] - 61s 78ms/step - loss: 0.1715 - accuracy: 0.9332 - val_loss: 0.3682 - val_accuracy: 0.8758\n",
      "Epoch 15/15\n",
      "782/782 [==============================] - ETA: 0s - loss: 0.1687 - accuracy: 0.9318\n",
      "Epoch 00015: val_accuracy improved from 0.87640 to 0.87700, saving model to best_model2.hdf5\n",
      "782/782 [==============================] - 64s 82ms/step - loss: 0.1687 - accuracy: 0.9318 - val_loss: 0.3319 - val_accuracy: 0.8770\n"
     ]
    }
   ],
   "source": [
    "model2 = Sequential()\n",
    "model2.add(layers.Embedding(max_words, 40, input_length=max_len))\n",
    "model2.add(layers.Bidirectional(layers.LSTM(40,dropout=0.7)))\n",
    "model2.add(layers.Dense(2,activation='sigmoid'))\n",
    "model2.compile(optimizer='adam',loss='binary_crossentropy', metrics=['accuracy'])\n",
    "#Implementing model checkpoins to save the best metric and do not lose it on training.\n",
    "checkpoint2 = ModelCheckpoint(\"best_model2.hdf5\", monitor='val_accuracy', verbose=1,save_best_only=True, mode='auto', period=1,save_weights_only=False)\n",
    "history = model2.fit(X_train, y_train, epochs=15,validation_data=(X_test, y_test),callbacks=[checkpoint2])"
   ]
  },
  {
   "cell_type": "code",
   "execution_count": 160,
   "metadata": {
    "ExecuteTime": {
     "end_time": "2020-11-14T07:31:44.159852Z",
     "start_time": "2020-11-14T07:31:43.733259Z"
    }
   },
   "outputs": [],
   "source": [
    "best_model = keras.models.load_model(\"best_model2.hdf5\")"
   ]
  },
  {
   "cell_type": "code",
   "execution_count": 161,
   "metadata": {
    "ExecuteTime": {
     "end_time": "2020-11-14T07:31:50.747132Z",
     "start_time": "2020-11-14T07:31:44.161847Z"
    }
   },
   "outputs": [
    {
     "name": "stdout",
     "output_type": "stream",
     "text": [
      "391/391 - 6s - loss: 0.3024 - accuracy: 0.8937\n",
      "Model accuracy:  0.8936799764633179\n"
     ]
    }
   ],
   "source": [
    "test_loss, test_acc = best_model.evaluate(X_test, y_test, verbose=2)\n",
    "print('Model accuracy: ',test_acc)"
   ]
  },
  {
   "cell_type": "code",
   "execution_count": 162,
   "metadata": {
    "ExecuteTime": {
     "end_time": "2020-11-14T07:31:57.239995Z",
     "start_time": "2020-11-14T07:31:50.748129Z"
    }
   },
   "outputs": [],
   "source": [
    "predictions = best_model.predict(X_test)"
   ]
  },
  {
   "cell_type": "code",
   "execution_count": 163,
   "metadata": {
    "ExecuteTime": {
     "end_time": "2020-11-14T07:31:57.257950Z",
     "start_time": "2020-11-14T07:31:57.240992Z"
    }
   },
   "outputs": [],
   "source": [
    "from sklearn.metrics import confusion_matrix\n",
    "matrix = confusion_matrix(y_test.argmax(axis=1), np.around(predictions, decimals=0).argmax(axis=1))"
   ]
  },
  {
   "cell_type": "code",
   "execution_count": 164,
   "metadata": {
    "ExecuteTime": {
     "end_time": "2020-11-14T07:31:57.386605Z",
     "start_time": "2020-11-14T07:31:57.258945Z"
    }
   },
   "outputs": [
    {
     "data": {
      "text/plain": [
       "<AxesSubplot:>"
      ]
     },
     "execution_count": 164,
     "metadata": {},
     "output_type": "execute_result"
    },
    {
     "data": {
      "image/png": "[encoded data removed]",
      "text/plain": [
       "<Figure size 360x360 with 2 Axes>"
      ]
     },
     "metadata": {
      "needs_background": "light"
     },
     "output_type": "display_data"
    }
   ],
   "source": [
    "import seaborn as sns\n",
    "conf_matrix = pd.DataFrame(matrix, index = ['Negative','Positive'],columns = ['Negative','Positive'])\n",
    "#Normalizing\n",
    "conf_matrix = conf_matrix.astype('float') / conf_matrix.sum(axis=1)[:, np.newaxis]\n",
    "plt.figure(figsize = (5,5))\n",
    "sns.heatmap(conf_matrix, annot=True, annot_kws={\"size\": 20}) #vertical is actual, horizontal is prediction"
   ]
  },
  {
   "cell_type": "code",
   "execution_count": 156,
   "metadata": {
    "ExecuteTime": {
     "end_time": "2020-11-14T07:02:42.189865Z",
     "start_time": "2020-11-14T07:02:42.182883Z"
    }
   },
   "outputs": [
    {
     "data": {
      "text/html": [
       "<div>\n",
       "<style scoped>\n",
       "    .dataframe tbody tr th:only-of-type {\n",
       "        vertical-align: middle;\n",
       "    }\n",
       "\n",
       "    .dataframe tbody tr th {\n",
       "        vertical-align: top;\n",
       "    }\n",
       "\n",
       "    .dataframe thead th {\n",
       "        text-align: right;\n",
       "    }\n",
       "</style>\n",
       "<table border=\"1\" class=\"dataframe\">\n",
       "  <thead>\n",
       "    <tr style=\"text-align: right;\">\n",
       "      <th></th>\n",
       "      <th>Negative</th>\n",
       "      <th>Positive</th>\n",
       "    </tr>\n",
       "  </thead>\n",
       "  <tbody>\n",
       "    <tr>\n",
       "      <th>Negative</th>\n",
       "      <td>0.858210</td>\n",
       "      <td>0.141790</td>\n",
       "    </tr>\n",
       "    <tr>\n",
       "      <th>Positive</th>\n",
       "      <td>0.100016</td>\n",
       "      <td>0.899984</td>\n",
       "    </tr>\n",
       "  </tbody>\n",
       "</table>\n",
       "</div>"
      ],
      "text/plain": [
       "          Negative  Positive\n",
       "Negative  0.858210  0.141790\n",
       "Positive  0.100016  0.899984"
      ]
     },
     "execution_count": 156,
     "metadata": {},
     "output_type": "execute_result"
    }
   ],
   "source": [
    "conf_matrix"
   ]
  }
 ],
 "metadata": {
  "kernelspec": {
   "display_name": "Python 3",
   "language": "python",
   "name": "python3"
  },
  "language_info": {
   "codemirror_mode": {
    "name": "ipython",
    "version": 3
   },
   "file_extension": ".py",
   "mimetype": "text/x-python",
   "name": "python",
   "nbconvert_exporter": "python",
   "pygments_lexer": "ipython3",
   "version": "3.7.3"
  }
 },
 "nbformat": 4,
 "nbformat_minor": 4
}
