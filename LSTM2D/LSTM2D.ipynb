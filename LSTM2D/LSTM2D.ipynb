{
 "cells": [
  {
   "cell_type": "code",
   "execution_count": 4,
   "metadata": {},
   "outputs": [
    {
     "name": "stderr",
     "output_type": "stream",
     "text": [
      "Using TensorFlow backend.\n"
     ]
    }
   ],
   "source": [
    "#import necessary library and frame\n",
    "import pandas as pd\n",
    "import numpy as np\n",
    "import tensorflow as tf\n",
    "import re\n",
    "# import sklearn method\n",
    "from sklearn import preprocessing\n",
    "from sklearn.feature_extraction.text import CountVectorizer\n",
    "from sklearn.ensemble import RandomForestClassifier\n",
    "from sklearn.metrics import confusion_matrix,classification_report\n",
    "from sklearn.metrics import roc_curve,auc\n",
    "from sklearn.model_selection import train_test_split\n",
    "#import keras method\n",
    "from keras.preprocessing.text import Tokenizer\n",
    "from keras.preprocessing.sequence import pad_sequences\n",
    "from keras import Sequential\n",
    "from keras.layers import Embedding,LSTM,Dense,Bidirectional\n",
    "#import nltk \n",
    "from nltk.corpus import stopwords\n",
    "from nltk.stem.porter import PorterStemmer\n",
    "#import utils\n",
    "import matplotlib.pyplot as plt"
   ]
  },
  {
   "cell_type": "code",
   "execution_count": 5,
   "metadata": {},
   "outputs": [
    {
     "name": "stdout",
     "output_type": "stream",
     "text": [
      "Shape of dataset:: (50000, 2)\n"
     ]
    },
    {
     "data": {
      "text/html": [
       "<div>\n",
       "<style scoped>\n",
       "    .dataframe tbody tr th:only-of-type {\n",
       "        vertical-align: middle;\n",
       "    }\n",
       "\n",
       "    .dataframe tbody tr th {\n",
       "        vertical-align: top;\n",
       "    }\n",
       "\n",
       "    .dataframe thead th {\n",
       "        text-align: right;\n",
       "    }\n",
       "</style>\n",
       "<table border=\"1\" class=\"dataframe\">\n",
       "  <thead>\n",
       "    <tr style=\"text-align: right;\">\n",
       "      <th></th>\n",
       "      <th>review</th>\n",
       "      <th>sentiment</th>\n",
       "    </tr>\n",
       "  </thead>\n",
       "  <tbody>\n",
       "    <tr>\n",
       "      <th>0</th>\n",
       "      <td>One of the other reviewers has mentioned that ...</td>\n",
       "      <td>positive</td>\n",
       "    </tr>\n",
       "    <tr>\n",
       "      <th>1</th>\n",
       "      <td>A wonderful little production. &lt;br /&gt;&lt;br /&gt;The...</td>\n",
       "      <td>positive</td>\n",
       "    </tr>\n",
       "    <tr>\n",
       "      <th>2</th>\n",
       "      <td>I thought this was a wonderful way to spend ti...</td>\n",
       "      <td>positive</td>\n",
       "    </tr>\n",
       "    <tr>\n",
       "      <th>3</th>\n",
       "      <td>Basically there's a family where a little boy ...</td>\n",
       "      <td>negative</td>\n",
       "    </tr>\n",
       "    <tr>\n",
       "      <th>4</th>\n",
       "      <td>Petter Mattei's \"Love in the Time of Money\" is...</td>\n",
       "      <td>positive</td>\n",
       "    </tr>\n",
       "    <tr>\n",
       "      <th>5</th>\n",
       "      <td>Probably my all-time favorite movie, a story o...</td>\n",
       "      <td>positive</td>\n",
       "    </tr>\n",
       "    <tr>\n",
       "      <th>6</th>\n",
       "      <td>I sure would like to see a resurrection of a u...</td>\n",
       "      <td>positive</td>\n",
       "    </tr>\n",
       "    <tr>\n",
       "      <th>7</th>\n",
       "      <td>This show was an amazing, fresh &amp; innovative i...</td>\n",
       "      <td>negative</td>\n",
       "    </tr>\n",
       "    <tr>\n",
       "      <th>8</th>\n",
       "      <td>Encouraged by the positive comments about this...</td>\n",
       "      <td>negative</td>\n",
       "    </tr>\n",
       "    <tr>\n",
       "      <th>9</th>\n",
       "      <td>If you like original gut wrenching laughter yo...</td>\n",
       "      <td>positive</td>\n",
       "    </tr>\n",
       "  </tbody>\n",
       "</table>\n",
       "</div>"
      ],
      "text/plain": [
       "                                              review sentiment\n",
       "0  One of the other reviewers has mentioned that ...  positive\n",
       "1  A wonderful little production. <br /><br />The...  positive\n",
       "2  I thought this was a wonderful way to spend ti...  positive\n",
       "3  Basically there's a family where a little boy ...  negative\n",
       "4  Petter Mattei's \"Love in the Time of Money\" is...  positive\n",
       "5  Probably my all-time favorite movie, a story o...  positive\n",
       "6  I sure would like to see a resurrection of a u...  positive\n",
       "7  This show was an amazing, fresh & innovative i...  negative\n",
       "8  Encouraged by the positive comments about this...  negative\n",
       "9  If you like original gut wrenching laughter yo...  positive"
      ]
     },
     "execution_count": 5,
     "metadata": {},
     "output_type": "execute_result"
    }
   ],
   "source": [
    "#Load the data\n",
    "Movie_df=pd.read_csv('IMDB Dataset.csv')\n",
    "print('Shape of dataset::',Movie_df.shape)\n",
    "Movie_df.head(10)"
   ]
  },
  {
   "cell_type": "code",
   "execution_count": 6,
   "metadata": {},
   "outputs": [
    {
     "name": "stdout",
     "output_type": "stream",
     "text": [
      "General stats::\n",
      "<class 'pandas.core.frame.DataFrame'>\n",
      "RangeIndex: 50000 entries, 0 to 49999\n",
      "Data columns (total 2 columns):\n",
      "review       50000 non-null object\n",
      "sentiment    50000 non-null object\n",
      "dtypes: object(2)\n",
      "memory usage: 781.4+ KB\n",
      "None\n",
      "Summary stats::\n",
      "\n",
      "                                                   review sentiment\n",
      "count                                               50000     50000\n",
      "unique                                              49582         2\n",
      "top     Loved today's show!!! It was a variety and not...  positive\n",
      "freq                                                    5     25000\n"
     ]
    },
    {
     "data": {
      "image/png": "[encoded data removed]",
      "text/plain": [
       "<Figure size 432x288 with 1 Axes>"
      ]
     },
     "metadata": {
      "needs_background": "light"
     },
     "output_type": "display_data"
    }
   ],
   "source": [
    "#positive and negative reviews\n",
    "import seaborn as sns\n",
    "sns.countplot(x='sentiment', data=Movie_df)\n",
    "\n",
    "#Stats of our data\n",
    "print(\"General stats::\")\n",
    "print(Movie_df.info())\n",
    "print(\"Summary stats::\\n\")\n",
    "print(Movie_df.describe())"
   ]
  },
  {
   "cell_type": "code",
   "execution_count": 7,
   "metadata": {},
   "outputs": [
    {
     "name": "stdout",
     "output_type": "stream",
     "text": [
      "Classes::\n",
      " ['negative' 'positive']\n"
     ]
    }
   ],
   "source": [
    "#Number of poitive & negative reviews\n",
    "Movie_df.sentiment.value_counts()\n",
    "\n",
    "reviews=Movie_df['review']\n",
    "sentiment=Movie_df['sentiment']\n",
    "#Summarize no. of classes\n",
    "print('Classes::\\n',np.unique(sentiment))"
   ]
  },
  {
   "cell_type": "code",
   "execution_count": 11,
   "metadata": {},
   "outputs": [
    {
     "name": "stdout",
     "output_type": "stream",
     "text": [
      "Shape of train dataset:: (30000,) (30000,)\n",
      "Shape of test dataset:: (20000,) (20000,)\n"
     ]
    }
   ],
   "source": [
    "# Split the data into train & test datasets\n",
    "train_reviews=reviews[:30000]\n",
    "train_sentiment=sentiment[:30000]\n",
    "test_reviews=reviews[30000:]\n",
    "test_sentiment=sentiment[30000:]\n",
    "# Shape of train & test dataset\n",
    "# train_reviews, test_reviews, train_sentiment, test_sentiment = train_test_split(reviews.values, sentiment.values, test_size = 0.4, random_state=42)\n",
    "print('Shape of train dataset::',train_reviews.shape,train_sentiment.shape)\n",
    "print('Shape of test dataset::',test_reviews.shape,test_sentiment.shape)"
   ]
  },
  {
   "cell_type": "code",
   "execution_count": 12,
   "metadata": {},
   "outputs": [],
   "source": [
    "#Encode our target labels\n",
    "lb=preprocessing.LabelBinarizer()\n",
    "#Encode 1 for positive label & 0 for Negative label\n",
    "train_sentiment=lb.fit_transform(train_sentiment)\n",
    "test_sentiment=lb.transform(test_sentiment)\n",
    "#Reshape the array\n",
    "train_sentiment=train_sentiment.ravel()  \n",
    "test_sentiment=test_sentiment.ravel()\n",
    "#Convert categoricals to numeric ones\n",
    "train_sentiment=train_sentiment.astype('int64')\n",
    "test_sentiment=test_sentiment.astype('int64')"
   ]
  },
  {
   "cell_type": "code",
   "execution_count": 13,
   "metadata": {
    "scrolled": true
   },
   "outputs": [
    {
     "name": "stdout",
     "output_type": "stream",
     "text": [
      "One of the other reviewers has mentioned that after watching just 1 Oz episode you'll be hooked. They are right, as this is exactly what happened with me.<br /><br />The first thing that struck me about Oz was its brutality and unflinching scenes of violence, which set in right from the word GO. Trust me, this is not a show for the faint hearted or timid. This show pulls no punches with regards to drugs, sex or violence. Its is hardcore, in the classic use of the word.<br /><br />It is called OZ as that is the nickname given to the Oswald Maximum Security State Penitentary. It focuses mainly on Emerald City, an experimental section of the prison where all the cells have glass fronts and face inwards, so privacy is not high on the agenda. Em City is home to many..Aryans, Muslims, gangstas, Latinos, Christians, Italians, Irish and more....so scuffles, death stares, dodgy dealings and shady agreements are never far away.<br /><br />I would say the main appeal of the show is due to the fact that it goes where other shows wouldn't dare. Forget pretty pictures painted for mainstream audiences, forget charm, forget romance...OZ doesn't mess around. The first episode I ever saw struck me as so nasty it was surreal, I couldn't say I was ready for it, but as I watched more, I developed a taste for Oz, and got accustomed to the high levels of graphic violence. Not just violence, but injustice (crooked guards who'll be sold out for a nickel, inmates who'll kill on order and get away with it, well mannered, middle class inmates being turned into prison bitches due to their lack of street skills or prison experience) Watching Oz, you may become comfortable with what is uncomfortable viewing....thats if you can get in touch with your darker side.\n"
     ]
    }
   ],
   "source": [
    "#Let's explore our data before normalization\n",
    "print(train_reviews[0])\n",
    "# train_reviews[0]\n",
    "# test_reviews[30001]"
   ]
  },
  {
   "cell_type": "code",
   "execution_count": 14,
   "metadata": {},
   "outputs": [
    {
     "data": {
      "text/plain": [
       "array([1, 1, 1, 0, 1, 1, 1, 0, 0, 1])"
      ]
     },
     "execution_count": 14,
     "metadata": {},
     "output_type": "execute_result"
    }
   ],
   "source": [
    "train_sentiment[0:10]\n"
   ]
  },
  {
   "cell_type": "code",
   "execution_count": 15,
   "metadata": {},
   "outputs": [
    {
     "data": {
      "text/plain": [
       "array([1, 0, 0, 1, 0, 0, 1, 0, 1, 0])"
      ]
     },
     "execution_count": 15,
     "metadata": {},
     "output_type": "execute_result"
    }
   ],
   "source": [
    "test_sentiment[0:10]"
   ]
  },
  {
   "cell_type": "code",
   "execution_count": 16,
   "metadata": {},
   "outputs": [],
   "source": [
    "#Let's normalize our data to remove stopwords, html tags and so on.\n",
    "ps=PorterStemmer()\n",
    "stopwords=set(stopwords.words('english'))\n",
    "# Define function for data mining\n",
    "def normalize_reviews(review):\n",
    "    #Excluding html tags\n",
    "    data_tags=re.sub(r'<[^<>]+>',\" \",review)\n",
    "    #Remove special characters/whitespaces\n",
    "    data_special=re.sub(r'[^a-zA-Z0-9\\s]','',data_tags)\n",
    "    #converting to lower case\n",
    "    data_lowercase=data_special.lower()\n",
    "    #tokenize review data\n",
    "    data_split=data_lowercase.split()\n",
    "    #Removing stop words\n",
    "    meaningful_words=[w for w in data_split if not w in stopwords]\n",
    "    #Appply stemming\n",
    "    text= ' '.join([ps.stem(word) for word in meaningful_words])\n",
    "    return text\n",
    "\n",
    "#Normalize the train & test data\n",
    "norm_train_reviews=train_reviews.apply(normalize_reviews)\n",
    "norm_test_reviews=test_reviews.apply(normalize_reviews)"
   ]
  },
  {
   "cell_type": "code",
   "execution_count": 17,
   "metadata": {},
   "outputs": [
    {
     "data": {
      "text/plain": [
       "'one review mention watch 1 oz episod youll hook right exactli happen first thing struck oz brutal unflinch scene violenc set right word go trust show faint heart timid show pull punch regard drug sex violenc hardcor classic use word call oz nicknam given oswald maximum secur state penitentari focus mainli emerald citi experiment section prison cell glass front face inward privaci high agenda em citi home manyaryan muslim gangsta latino christian italian irish moreso scuffl death stare dodgi deal shadi agreement never far away would say main appeal show due fact goe show wouldnt dare forget pretti pictur paint mainstream audienc forget charm forget romanceoz doesnt mess around first episod ever saw struck nasti surreal couldnt say readi watch develop tast oz got accustom high level graphic violenc violenc injustic crook guard wholl sold nickel inmat wholl kill order get away well manner middl class inmat turn prison bitch due lack street skill prison experi watch oz may becom comfort uncomfort viewingthat get touch darker side'"
      ]
     },
     "execution_count": 17,
     "metadata": {},
     "output_type": "execute_result"
    }
   ],
   "source": [
    "#Let's look at our normalized data\n",
    "norm_train_reviews[0]\n"
   ]
  },
  {
   "cell_type": "code",
   "execution_count": 18,
   "metadata": {},
   "outputs": [
    {
     "data": {
      "text/plain": [
       "'one silliest movi ever misfortun watch expect see first two keep get sucker type movi idea mayb right time nope even close begin special effect give idea pass sfx movi one point soldier shoot raptor run hallway even less second screen time viewer easili see man tail appar tape run around bad bad bad bad act that call one charact suppos suppos south howev live south six year never heard way talk perhap sort weird disabl inabl talk normal find fascin charact noth requir accent therefor reason actor tri one plot pretti basic raptor escap peopl gun must hunt im start wonder dinosaur movi alway seem run nearest system tunnel wouldnt stay outsid hunt prey oh well least good sens appear littl movi supposedli revolv around thing let say build know man eat raptor run around would decid take time argument better armi marin decid arm wrestl contest settl idiot idea track raptor split group two didnt ever watch horror movi least episod scoobi doo short one dumber movi miss unless want groan way movi'"
      ]
     },
     "execution_count": 18,
     "metadata": {},
     "output_type": "execute_result"
    }
   ],
   "source": [
    "norm_test_reviews[30001]"
   ]
  },
  {
   "cell_type": "code",
   "execution_count": 19,
   "metadata": {},
   "outputs": [
    {
     "name": "stdout",
     "output_type": "stream",
     "text": [
      "Shape of train_cv:: (30000, 1929440)\n",
      "Shape of test_cv:: (20000, 1929440)\n"
     ]
    }
   ],
   "source": [
    "#Let's create features using bag of words model\n",
    "cv=CountVectorizer(ngram_range=(1,2))\n",
    "train_cv=cv.fit_transform(norm_train_reviews)\n",
    "test_cv =cv.transform(norm_test_reviews)\n",
    "print('Shape of train_cv::',train_cv.shape)\n",
    "print('Shape of test_cv::',test_cv.shape)"
   ]
  },
  {
   "cell_type": "code",
   "execution_count": 36,
   "metadata": {},
   "outputs": [
    {
     "name": "stdout",
     "output_type": "stream",
     "text": [
      "Accuracy of trained model is :: 0.9996\n"
     ]
    }
   ],
   "source": [
    "#Training the classifier\n",
    "rfc=RandomForestClassifier(n_estimators=20,random_state=42)\n",
    "rfc=rfc.fit(train_cv,train_sentiment)\n",
    "score=rfc.score(train_cv,train_sentiment)\n",
    "print('Accuracy of trained model is ::',score)"
   ]
  },
  {
   "cell_type": "code",
   "execution_count": 37,
   "metadata": {},
   "outputs": [
    {
     "name": "stdout",
     "output_type": "stream",
     "text": [
      "CPU times: user 1.31 s, sys: 0 ns, total: 1.31 s\n",
      "Wall time: 1.31 s\n"
     ]
    }
   ],
   "source": [
    "%%time\n",
    "#Making predicitions\n",
    "rfc_predict=rfc.predict(test_cv)"
   ]
  },
  {
   "cell_type": "code",
   "execution_count": 38,
   "metadata": {},
   "outputs": [
    {
     "data": {
      "text/plain": [
       "array([[8291, 1724],\n",
       "       [2093, 7892]])"
      ]
     },
     "execution_count": 38,
     "metadata": {},
     "output_type": "execute_result"
    }
   ],
   "source": [
    "#How accuate our model is?\n",
    "cm=confusion_matrix(test_sentiment,rfc_predict)\n",
    "cm"
   ]
  },
  {
   "cell_type": "code",
   "execution_count": 39,
   "metadata": {},
   "outputs": [
    {
     "name": "stdout",
     "output_type": "stream",
     "text": [
      "Classification report is::\n",
      "               precision    recall  f1-score   support\n",
      "\n",
      "           0       0.80      0.83      0.81     10015\n",
      "           1       0.82      0.79      0.81      9985\n",
      "\n",
      "    accuracy                           0.81     20000\n",
      "   macro avg       0.81      0.81      0.81     20000\n",
      "weighted avg       0.81      0.81      0.81     20000\n",
      "\n"
     ]
    }
   ],
   "source": [
    "#print classification report for performance metrics\n",
    "cr=classification_report(test_sentiment,rfc_predict)\n",
    "print('Classification report is::\\n',cr)"
   ]
  },
  {
   "cell_type": "code",
   "execution_count": 40,
   "metadata": {},
   "outputs": [
    {
     "name": "stdout",
     "output_type": "stream",
     "text": [
      "AUC score for Random Forest classifier:: 0.809\n"
     ]
    }
   ],
   "source": [
    "# ROC curve for Random Forest Classifier\n",
    "fpr_rf,tpr_rf,threshold_rf=roc_curve(test_sentiment,rfc_predict)\n",
    "#Area under curve (AUC) score, fpr-False Positive rate, tpr-True Positive rate\n",
    "auc_rf=auc(fpr_rf,tpr_rf)\n",
    "print('AUC score for Random Forest classifier::',np.round(auc_rf,3))"
   ]
  },
  {
   "cell_type": "code",
   "execution_count": 20,
   "metadata": {},
   "outputs": [],
   "source": [
    "#Recurrent neural network (RNN) with LSTM (Long Short Term Memory) model\n",
    "#Train dataset\n",
    "X_train=train_cv\n",
    "X_train=[str(x[0]) for x in X_train]\n",
    "y_train=train_sentiment\n",
    "# Test dataset\n",
    "X_test=test_cv\n",
    "X_test=[str(x[0]) for x in X_test]\n",
    "y_test=test_sentiment"
   ]
  },
  {
   "cell_type": "code",
   "execution_count": 41,
   "metadata": {},
   "outputs": [
    {
     "data": {
      "text/plain": [
       "['  (0, 1197846)\\t1\\n  (0, 1412135)\\t1\\n  (0, 1073534)\\t1\\n  (0, 1845288)\\t3\\n  (0, 1224410)\\t5\\n  (0, 545231)\\t2\\n  (0, 1922250)\\t1\\n  (0, 811859)\\t1\\n  (0, 1418805)\\t2\\n  (0, 568336)\\t1\\n  (0, 766786)\\t1\\n  (0, 641584)\\t2\\n  (0, 1704950)\\t1\\n  (0, 1633406)\\t2\\n  (0, 231712)\\t1\\n  (0, 1787426)\\t1\\n  (0, 1462423)\\t1\\n  (0, 1825526)\\t4\\n  (0, 1506970)\\t1\\n  (0, 1893877)\\t2\\n  (0, 719543)\\t1\\n  (0, 1764014)\\t1\\n  (0, 1528974)\\t4\\n  (0, 594239)\\t1\\n  (0, 782415)\\t1\\n  :\\t:\\n  (0, 704144)\\t1\\n  (0, 139040)\\t1\\n  (0, 1861005)\\t1\\n  (0, 1043492)\\t1\\n  (0, 1081287)\\t1\\n  (0, 311790)\\t1\\n  (0, 863944)\\t1\\n  (0, 1768113)\\t1\\n  (0, 1320122)\\t1\\n  (0, 192039)\\t1\\n  (0, 499339)\\t1\\n  (0, 939833)\\t1\\n  (0, 1629975)\\t1\\n  (0, 1552943)\\t1\\n  (0, 1320211)\\t1\\n  (0, 580001)\\t1\\n  (0, 1224486)\\t1\\n  (0, 1057732)\\t1\\n  (0, 165814)\\t1\\n  (0, 335540)\\t1\\n  (0, 1781266)\\t1\\n  (0, 1823318)\\t1\\n  (0, 707192)\\t1\\n  (0, 1742307)\\t1\\n  (0, 410911)\\t1']"
      ]
     },
     "execution_count": 41,
     "metadata": {},
     "output_type": "execute_result"
    }
   ],
   "source": [
    "# print(cv.get_feature_names()[:100])\n",
    "[str(x[0]) for x in train_cv[0]]"
   ]
  },
  {
   "cell_type": "code",
   "execution_count": 17,
   "metadata": {},
   "outputs": [],
   "source": [
    "# Tokenize the train & test dataset\n",
    "Max_Review_length=500\n",
    "tokenizer=Tokenizer(num_words=Max_Review_length,lower=False)\n",
    "tokenizer.fit_on_texts(X_train)\n",
    "#tokenizig train data\n",
    "X_train_token=tokenizer.texts_to_sequences(X_train)\n",
    "#tokenizing test data\n",
    "X_test_token=tokenizer.texts_to_sequences(X_test)"
   ]
  },
  {
   "cell_type": "code",
   "execution_count": 18,
   "metadata": {},
   "outputs": [
    {
     "name": "stdout",
     "output_type": "stream",
     "text": [
      "Shape of X_train datset after padding: (30000, 500)\n",
      "Shape of X_test dataset after padding: (20000, 500)\n"
     ]
    }
   ],
   "source": [
    "#Truncate or pad the dataset for a length of 500 words for each review\n",
    "X_train=pad_sequences(X_train_token,maxlen=Max_Review_length)\n",
    "X_test=pad_sequences(X_test_token,maxlen=Max_Review_length)\n",
    "\n",
    "print('Shape of X_train datset after padding:',X_train.shape)\n",
    "print('Shape of X_test dataset after padding:',X_test.shape)"
   ]
  },
  {
   "cell_type": "code",
   "execution_count": 44,
   "metadata": {},
   "outputs": [
    {
     "name": "stdout",
     "output_type": "stream",
     "text": [
      "Model: \"sequential_5\"\n",
      "_________________________________________________________________\n",
      "Layer (type)                 Output Shape              Param #   \n",
      "=================================================================\n",
      "embedding_5 (Embedding)      (None, 500, 64)           320000    \n",
      "_________________________________________________________________\n",
      "lstm_5 (LSTM)                (None, 30)                11400     \n",
      "_________________________________________________________________\n",
      "dense_6 (Dense)              (None, 1)                 31        \n",
      "=================================================================\n",
      "Total params: 331,431\n",
      "Trainable params: 331,431\n",
      "Non-trainable params: 0\n",
      "_________________________________________________________________\n"
     ]
    }
   ],
   "source": [
    "# Most poplar words found in the dataset\n",
    "vocabulary_size=5000 \n",
    "embedding_size=64\n",
    "model=Sequential()\n",
    "model.add(Embedding(vocabulary_size,embedding_size,input_length=Max_Review_length))\n",
    "model.add(LSTM(30))\n",
    "# model.add(Dense(64, activation='relu')) \n",
    "model.add(Dense(1, activation='sigmoid', kernel_initializer='random_uniform'))\n",
    "model.summary()\n",
    "#Compile our model\n",
    "model.compile(loss='binary_crossentropy',optimizer='adam',metrics=['accuracy'])"
   ]
  },
  {
   "cell_type": "code",
   "execution_count": 45,
   "metadata": {},
   "outputs": [
    {
     "name": "stderr",
     "output_type": "stream",
     "text": [
      "/opt/conda/lib/python3.6/site-packages/tensorflow/python/framework/indexed_slices.py:434: UserWarning: Converting sparse IndexedSlices to a dense Tensor of unknown shape. This may consume a large amount of memory.\n",
      "  \"Converting sparse IndexedSlices to a dense Tensor of unknown shape. \"\n"
     ]
    },
    {
     "name": "stdout",
     "output_type": "stream",
     "text": [
      "Train on 29872 samples, validate on 128 samples\n",
      "Epoch 1/6\n",
      "29872/29872 [==============================] - 131s 4ms/step - loss: 0.6932 - accuracy: 0.4996 - val_loss: 0.6933 - val_accuracy: 0.4375\n",
      "Epoch 2/6\n",
      "29872/29872 [==============================] - 129s 4ms/step - loss: 0.6932 - accuracy: 0.4926 - val_loss: 0.6935 - val_accuracy: 0.4375\n",
      "Epoch 3/6\n",
      "29872/29872 [==============================] - 131s 4ms/step - loss: 0.6932 - accuracy: 0.4985 - val_loss: 0.6931 - val_accuracy: 0.5625\n",
      "Epoch 4/6\n",
      "29872/29872 [==============================] - 129s 4ms/step - loss: 0.6932 - accuracy: 0.4923 - val_loss: 0.6934 - val_accuracy: 0.4375\n",
      "Epoch 5/6\n",
      "29872/29872 [==============================] - 127s 4ms/step - loss: 0.6932 - accuracy: 0.5001 - val_loss: 0.6934 - val_accuracy: 0.4375\n",
      "Epoch 6/6\n",
      "29872/29872 [==============================] - 129s 4ms/step - loss: 0.6932 - accuracy: 0.4978 - val_loss: 0.6935 - val_accuracy: 0.4375\n"
     ]
    }
   ],
   "source": [
    "#Train our model\n",
    "batch_size=128\n",
    "num_epochs=6\n",
    "X_valid,y_valid=X_train[:batch_size],train_sentiment[:batch_size]\n",
    "X_train1,y_train1=X_train[batch_size:],train_sentiment[batch_size:]\n",
    "# Fit the model\n",
    "history = model.fit(X_train1,y_train1,validation_data=(X_valid,y_valid),validation_split=0.2,\n",
    "              batch_size=batch_size,epochs=num_epochs, verbose=1,shuffle=True)"
   ]
  },
  {
   "cell_type": "code",
   "execution_count": 46,
   "metadata": {},
   "outputs": [
    {
     "data": {
      "text/plain": [
       "array([ True,  True,  True,  True,  True,  True,  True,  True,  True,\n",
       "        True])"
      ]
     },
     "execution_count": 46,
     "metadata": {},
     "output_type": "execute_result"
    }
   ],
   "source": [
    "# Predictions\n",
    "y_predict_rnn=model.predict(X_test)\n",
    "#Changing the shape of y_predict to 1-Dimensional\n",
    "y_predict_rnn1=y_predict_rnn.ravel()\n",
    "y_predict_rnn1=(y_predict_rnn1>0.5)\n",
    "y_predict_rnn1[0:10]"
   ]
  },
  {
   "cell_type": "code",
   "execution_count": 27,
   "metadata": {},
   "outputs": [
    {
     "name": "stdout",
     "output_type": "stream",
     "text": [
      "20000/20000 [==============================] - 84s 4ms/step\n",
      "Test Score: 0.6931482069015503\n",
      "Test Accuracy: 0.4989500045776367\n"
     ]
    }
   ],
   "source": [
    "#Accuracy\n",
    "score = model.evaluate(X_test,y_test)\n",
    "print(\"Test Score:\", score[0])\n",
    "print(\"Test Accuracy:\", score[1])"
   ]
  },
  {
   "cell_type": "code",
   "execution_count": 25,
   "metadata": {},
   "outputs": [
    {
     "data": {
      "text/plain": [
       "array([[  65, 9950],\n",
       "       [  71, 9914]])"
      ]
     },
     "execution_count": 25,
     "metadata": {},
     "output_type": "execute_result"
    }
   ],
   "source": [
    "#Confusion matrix for RNN with LSTM\n",
    "cm_rnn=confusion_matrix(y_test,y_predict_rnn1)\n",
    "cm_rnn\n"
   ]
  },
  {
   "cell_type": "code",
   "execution_count": 28,
   "metadata": {},
   "outputs": [
    {
     "name": "stdout",
     "output_type": "stream",
     "text": [
      "The Classification report is::\n",
      "               precision    recall  f1-score   support\n",
      "\n",
      "           0       0.48      0.01      0.01     10015\n",
      "           1       0.50      0.99      0.66      9985\n",
      "\n",
      "    accuracy                           0.50     20000\n",
      "   macro avg       0.49      0.50      0.34     20000\n",
      "weighted avg       0.49      0.50      0.34     20000\n",
      "\n"
     ]
    }
   ],
   "source": [
    "#Classification report for performance metrics\n",
    "cr_rnn=classification_report(y_test,y_predict_rnn1)\n",
    "print('The Classification report is::\\n',cr_rnn)"
   ]
  },
  {
   "cell_type": "code",
   "execution_count": 29,
   "metadata": {},
   "outputs": [
    {
     "name": "stdout",
     "output_type": "stream",
     "text": [
      "AUC score for RNN with LSTM :: 0.51\n"
     ]
    }
   ],
   "source": [
    "#ROC curve for RNN with LSTM\n",
    "fpr_rnn,tpr_rnn,thresold_rnn=roc_curve(y_test,y_predict_rnn)\n",
    "#AUC score for RNN\n",
    "auc_rnn=auc(fpr_rnn,tpr_rnn)\n",
    "print('AUC score for RNN with LSTM ::',np.round(auc_rnn,3))"
   ]
  },
  {
   "cell_type": "code",
   "execution_count": 30,
   "metadata": {},
   "outputs": [
    {
     "data": {
      "image/png": "[encoded data removed]",
      "text/plain": [
       "<Figure size 432x288 with 1 Axes>"
      ]
     },
     "metadata": {
      "needs_background": "light"
     },
     "output_type": "display_data"
    },
    {
     "data": {
      "image/png": "[encoded data removed]",
      "text/plain": [
       "<Figure size 432x288 with 1 Axes>"
      ]
     },
     "metadata": {
      "needs_background": "light"
     },
     "output_type": "display_data"
    }
   ],
   "source": [
    "#PLOT for accuracy and loss\n",
    "plt.plot(history.history['accuracy'])\n",
    "plt.plot(history.history['val_accuracy'])\n",
    "plt.title('model accuracy')\n",
    "plt.ylabel('accuracy')\n",
    "plt.xlabel('epoch')\n",
    "plt.legend(['train','test'], loc='upper left')\n",
    "plt.show()\n",
    "\n",
    "plt.plot(history.history['loss'])\n",
    "plt.plot(history.history['val_loss'])\n",
    "plt.title('model loss')\n",
    "plt.ylabel('loss')\n",
    "plt.xlabel('epoch')\n",
    "plt.legend(['train','test'], loc='upper left')\n",
    "plt.show()"
   ]
  },
  {
   "cell_type": "code",
   "execution_count": 31,
   "metadata": {},
   "outputs": [
    {
     "ename": "NameError",
     "evalue": "name 'fpr_rf' is not defined",
     "output_type": "error",
     "traceback": [
      "\u001b[0;31m---------------------------------------------------------------------------\u001b[0m",
      "\u001b[0;31mNameError\u001b[0m                                 Traceback (most recent call last)",
      "\u001b[0;32m<ipython-input-31-af1c33deab0b>\u001b[0m in \u001b[0;36m<module>\u001b[0;34m\u001b[0m\n\u001b[1;32m      4\u001b[0m \u001b[0mplt\u001b[0m\u001b[0;34m.\u001b[0m\u001b[0mplot\u001b[0m\u001b[0;34m(\u001b[0m\u001b[0;34m[\u001b[0m\u001b[0;36m0\u001b[0m\u001b[0;34m,\u001b[0m\u001b[0;36m1\u001b[0m\u001b[0;34m]\u001b[0m\u001b[0;34m,\u001b[0m\u001b[0;34m[\u001b[0m\u001b[0;36m0\u001b[0m\u001b[0;34m,\u001b[0m\u001b[0;36m1\u001b[0m\u001b[0;34m]\u001b[0m\u001b[0;34m,\u001b[0m\u001b[0;34m'k--'\u001b[0m\u001b[0;34m)\u001b[0m\u001b[0;34m\u001b[0m\u001b[0;34m\u001b[0m\u001b[0m\n\u001b[1;32m      5\u001b[0m \u001b[0mplt\u001b[0m\u001b[0;34m.\u001b[0m\u001b[0mplot\u001b[0m\u001b[0;34m(\u001b[0m\u001b[0mfpr_rnn\u001b[0m\u001b[0;34m,\u001b[0m\u001b[0mtpr_rnn\u001b[0m\u001b[0;34m,\u001b[0m\u001b[0mlabel\u001b[0m\u001b[0;34m=\u001b[0m\u001b[0;34m'RNN(area={:.3f})'\u001b[0m\u001b[0;34m.\u001b[0m\u001b[0mformat\u001b[0m\u001b[0;34m(\u001b[0m\u001b[0mauc_rnn\u001b[0m\u001b[0;34m)\u001b[0m\u001b[0;34m)\u001b[0m\u001b[0;34m\u001b[0m\u001b[0;34m\u001b[0m\u001b[0m\n\u001b[0;32m----> 6\u001b[0;31m \u001b[0mplt\u001b[0m\u001b[0;34m.\u001b[0m\u001b[0mplot\u001b[0m\u001b[0;34m(\u001b[0m\u001b[0mfpr_rf\u001b[0m\u001b[0;34m,\u001b[0m\u001b[0mtpr_rf\u001b[0m\u001b[0;34m,\u001b[0m\u001b[0mlabel\u001b[0m\u001b[0;34m=\u001b[0m\u001b[0;34m'Random Forest (area={:.3f})'\u001b[0m\u001b[0;34m.\u001b[0m\u001b[0mformat\u001b[0m\u001b[0;34m(\u001b[0m\u001b[0mauc_rf\u001b[0m\u001b[0;34m)\u001b[0m\u001b[0;34m)\u001b[0m\u001b[0;34m\u001b[0m\u001b[0;34m\u001b[0m\u001b[0m\n\u001b[0m\u001b[1;32m      7\u001b[0m \u001b[0mplt\u001b[0m\u001b[0;34m.\u001b[0m\u001b[0mxlabel\u001b[0m\u001b[0;34m(\u001b[0m\u001b[0;34m'False Positive rate'\u001b[0m\u001b[0;34m)\u001b[0m\u001b[0;34m\u001b[0m\u001b[0;34m\u001b[0m\u001b[0m\n\u001b[1;32m      8\u001b[0m \u001b[0mplt\u001b[0m\u001b[0;34m.\u001b[0m\u001b[0mylabel\u001b[0m\u001b[0;34m(\u001b[0m\u001b[0;34m'True Positive rate'\u001b[0m\u001b[0;34m)\u001b[0m\u001b[0;34m\u001b[0m\u001b[0;34m\u001b[0m\u001b[0m\n",
      "\u001b[0;31mNameError\u001b[0m: name 'fpr_rf' is not defined"
     ]
    },
    {
     "data": {
      "image/png": "[encoded data removed]",
      "text/plain": [
       "<Figure size 432x288 with 1 Axes>"
      ]
     },
     "metadata": {
      "needs_background": "light"
     },
     "output_type": "display_data"
    }
   ],
   "source": [
    "#Receiver Operating Characterstic (ROC) Curve for Model Evaluation\n",
    "#Now, let's plot the ROC for both Random Forest Classifier & RNN with LSTM\n",
    "plt.figure(1)\n",
    "plt.plot([0,1],[0,1],'k--')\n",
    "plt.plot(fpr_rnn,tpr_rnn,label='RNN(area={:.3f})'.format(auc_rnn))\n",
    "plt.plot(fpr_rf,tpr_rf,label='Random Forest (area={:.3f})'.format(auc_rf))\n",
    "plt.xlabel('False Positive rate')\n",
    "plt.ylabel('True Positive rate')\n",
    "plt.title('ROC curve')\n",
    "plt.legend(loc='best')\n",
    "plt.show()"
   ]
  },
  {
   "cell_type": "code",
   "execution_count": null,
   "metadata": {},
   "outputs": [],
   "source": [
    "#Model Evaluation on unseen dataset\n",
    "Model_evaluation=pd.DataFrame({'Model':['Random Forest Classifier','RNN with LSTM'],\n",
    "                              'f1_score':[0.81,0.79],\n",
    "                              'roc_auc_score':[np.round(auc_rf,3),np.round(auc_rnn,3)]})\n",
    "Model_evaluation"
   ]
  },
  {
   "cell_type": "code",
   "execution_count": null,
   "metadata": {},
   "outputs": [],
   "source": []
  }
 ],
 "metadata": {
  "kernelspec": {
   "display_name": "Python 3",
   "language": "python",
   "name": "python3"
  },
  "language_info": {
   "codemirror_mode": {
    "name": "ipython",
    "version": 3
   },
   "file_extension": ".py",
   "mimetype": "text/x-python",
   "name": "python",
   "nbconvert_exporter": "python",
   "pygments_lexer": "ipython3",
   "version": "3.6.10"
  }
 },
 "nbformat": 4,
 "nbformat_minor": 4
}
